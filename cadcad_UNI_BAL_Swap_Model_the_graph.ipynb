{
  "cells": [
    {
      "cell_type": "code",
      "source": [
        "#!pip install cadCAD==0.4.23 &> /dev/null\n",
        "#!pip uninstall numpy\n",
        "#!pip uninstall pandas\n",
        "\n",
        "#!pip install --user numpy\n",
        "#!pip install --user  pandas"
      ],
      "metadata": {
        "id": "vWwnXhrp56AJ"
      },
      "execution_count": 1,
      "outputs": []
    },
    {
      "cell_type": "markdown",
      "metadata": {
        "id": "WLd9Jhs2yTW_"
      },
      "source": [
        "# Dependencies"
      ]
    },
    {
      "cell_type": "code",
      "execution_count": 2,
      "metadata": {
        "execution": {
          "iopub.execute_input": "2021-06-15T20:38:13.211181Z",
          "iopub.status.busy": "2021-06-15T20:38:13.210416Z",
          "iopub.status.idle": "2021-06-15T20:38:13.466270Z",
          "shell.execute_reply": "2021-06-15T20:38:13.466663Z"
        },
        "id": "1ywh4SU6yTW_"
      },
      "outputs": [],
      "source": [
        "# cadCAD standard dependencies\n",
        "\n",
        "# cadCAD configuration modules\n",
        "from cadCAD.configuration.utils import config_sim\n",
        "from cadCAD.configuration import Experiment\n",
        "\n",
        "# cadCAD simulation engine modules\n",
        "from cadCAD.engine import ExecutionMode, ExecutionContext\n",
        "from cadCAD.engine import Executor\n",
        "\n",
        "# cadCAD global simulation configuration list\n",
        "from cadCAD import configs"
      ]
    },
    {
      "cell_type": "code",
      "execution_count": 3,
      "metadata": {
        "execution": {
          "iopub.execute_input": "2021-06-15T20:38:13.470224Z",
          "iopub.status.busy": "2021-06-15T20:38:13.469645Z",
          "iopub.status.idle": "2021-06-15T20:38:13.679440Z",
          "shell.execute_reply": "2021-06-15T20:38:13.679832Z"
        },
        "id": "Djj4HnOjyTXA"
      },
      "outputs": [],
      "source": [
        "# Additional dependencies\n",
        "\n",
        "# For parsing the data from the API\n",
        "import json\n",
        "# For downloading data from API\n",
        "import requests as req\n",
        "# For generating random numbers\n",
        "import math\n",
        "# For analytics\n",
        "import pandas as pd\n",
        "# For visualization\n",
        "import plotly.express as px"
      ]
    },
    {
      "cell_type": "markdown",
      "metadata": {
        "id": "R7kIURZeyTXB"
      },
      "source": [
        "## Query the Balancer subgraph for a UNI-BAL pool"
      ]
    },
    {
      "cell_type": "code",
      "execution_count": 4,
      "metadata": {
        "execution": {
          "iopub.execute_input": "2021-06-15T20:38:13.684567Z",
          "iopub.status.busy": "2021-06-15T20:38:13.683962Z",
          "iopub.status.idle": "2021-06-15T20:38:14.236280Z",
          "shell.execute_reply": "2021-06-15T20:38:14.237019Z"
        },
        "colab": {
          "base_uri": "https://localhost:8080/"
        },
        "id": "wI2FZQacyTXC",
        "outputId": "5b4373f8-e959-45bd-b209-c79c9ba3e8f5"
      },
      "outputs": [
        {
          "output_type": "stream",
          "name": "stdout",
          "text": [
            "Print first 500 characters of the response\n",
            "{\"data\":{\"swaps\":[{\"timestamp\":1606030017,\"tokenAmountIn\":\"348\",\"tokenAmountOut\":\"78.737271727059410272\",\"tokenInSym\":\"UNI\",\"tokenOutSym\":\"BAL\"},{\"timestamp\":1610476730,\"tokenAmountIn\":\"87.907993216103989248\",\"tokenAmountOut\":\"254.406534991955029855\",\"tokenInSym\":\"BAL\",\"tokenOutSym\":\"UNI\"},{\"timestamp\":1611736783,\"tokenAmountIn\":\"40.890844784118336934\",\"tokenAmountOut\":\"61.294208877262298814\",\"tokenInSym\":\"BAL\",\"tokenOutSym\":\"UNI\"},{\"timestamp\":1618859828,\"tokenAmountIn\":\"112.259419481903871425\"\n"
          ]
        }
      ],
      "source": [
        "# You can explore the subgraph at https://thegraph.com/explorer/subgraph/balancer-labs/balancer\n",
        "# Pool address can be found on Etherscan\n",
        "API_URI = 'https://api.thegraph.com/subgraphs/name/balancer-labs/balancer'\n",
        "\n",
        "# Query for retrieving the history of swaps on a BAL <> UNI 50-50 pool\n",
        "GRAPH_QUERY = '''\n",
        "{\n",
        "  swaps (where: {poolAddress: \"0xf3168b50751173e150af543997abe0fec5d58b7f\"}) { \n",
        "    tokenAmountIn,\n",
        "    tokenInSym,\n",
        "    tokenAmountOut,\n",
        "    tokenOutSym,\n",
        "    timestamp\n",
        "  }\n",
        "}\n",
        "'''\n",
        "\n",
        "# Retrieve data from query\n",
        "JSON = {'query': GRAPH_QUERY}\n",
        "r = req.post(API_URI, json=JSON)\n",
        "graph_data = json.loads(r.content)['data']\n",
        "\n",
        "print(\"Print first 500 characters of the response\")\n",
        "print(r.text[:500])"
      ]
    },
    {
      "cell_type": "markdown",
      "metadata": {
        "id": "qwbafqnPyTXD"
      },
      "source": [
        "## Data Wrangle the Data"
      ]
    },
    {
      "cell_type": "code",
      "execution_count": 5,
      "metadata": {
        "execution": {
          "iopub.execute_input": "2021-06-15T20:38:14.255279Z",
          "iopub.status.busy": "2021-06-15T20:38:14.247623Z",
          "iopub.status.idle": "2021-06-15T20:38:14.258132Z",
          "shell.execute_reply": "2021-06-15T20:38:14.258620Z"
        },
        "colab": {
          "base_uri": "https://localhost:8080/",
          "height": 206
        },
        "id": "LCmBsteKyTXD",
        "outputId": "8fd23708-a51e-4cd3-8dea-3db93e0c989a"
      },
      "outputs": [
        {
          "output_type": "execute_result",
          "data": {
            "text/html": [
              "\n",
              "  <div id=\"df-b9aa423a-c5e1-442e-94e1-6281f670d4d5\">\n",
              "    <div class=\"colab-df-container\">\n",
              "      <div>\n",
              "<style scoped>\n",
              "    .dataframe tbody tr th:only-of-type {\n",
              "        vertical-align: middle;\n",
              "    }\n",
              "\n",
              "    .dataframe tbody tr th {\n",
              "        vertical-align: top;\n",
              "    }\n",
              "\n",
              "    .dataframe thead th {\n",
              "        text-align: right;\n",
              "    }\n",
              "</style>\n",
              "<table border=\"1\" class=\"dataframe\">\n",
              "  <thead>\n",
              "    <tr style=\"text-align: right;\">\n",
              "      <th></th>\n",
              "      <th>timestamp</th>\n",
              "      <th>tokenAmountIn</th>\n",
              "      <th>tokenAmountOut</th>\n",
              "      <th>tokenInSym</th>\n",
              "      <th>tokenOutSym</th>\n",
              "    </tr>\n",
              "  </thead>\n",
              "  <tbody>\n",
              "    <tr>\n",
              "      <th>0</th>\n",
              "      <td>1606030017</td>\n",
              "      <td>348</td>\n",
              "      <td>78.737271727059410272</td>\n",
              "      <td>UNI</td>\n",
              "      <td>BAL</td>\n",
              "    </tr>\n",
              "    <tr>\n",
              "      <th>1</th>\n",
              "      <td>1610476730</td>\n",
              "      <td>87.907993216103989248</td>\n",
              "      <td>254.406534991955029855</td>\n",
              "      <td>BAL</td>\n",
              "      <td>UNI</td>\n",
              "    </tr>\n",
              "    <tr>\n",
              "      <th>2</th>\n",
              "      <td>1611736783</td>\n",
              "      <td>40.890844784118336934</td>\n",
              "      <td>61.294208877262298814</td>\n",
              "      <td>BAL</td>\n",
              "      <td>UNI</td>\n",
              "    </tr>\n",
              "    <tr>\n",
              "      <th>3</th>\n",
              "      <td>1618859828</td>\n",
              "      <td>112.259419481903871425</td>\n",
              "      <td>195.629827478447515933</td>\n",
              "      <td>BAL</td>\n",
              "      <td>UNI</td>\n",
              "    </tr>\n",
              "    <tr>\n",
              "      <th>4</th>\n",
              "      <td>1601954527</td>\n",
              "      <td>138.245503251295453184</td>\n",
              "      <td>27.894370921499086237</td>\n",
              "      <td>UNI</td>\n",
              "      <td>BAL</td>\n",
              "    </tr>\n",
              "  </tbody>\n",
              "</table>\n",
              "</div>\n",
              "      <button class=\"colab-df-convert\" onclick=\"convertToInteractive('df-b9aa423a-c5e1-442e-94e1-6281f670d4d5')\"\n",
              "              title=\"Convert this dataframe to an interactive table.\"\n",
              "              style=\"display:none;\">\n",
              "        \n",
              "  <svg xmlns=\"http://www.w3.org/2000/svg\" height=\"24px\"viewBox=\"0 0 24 24\"\n",
              "       width=\"24px\">\n",
              "    <path d=\"M0 0h24v24H0V0z\" fill=\"none\"/>\n",
              "    <path d=\"M18.56 5.44l.94 2.06.94-2.06 2.06-.94-2.06-.94-.94-2.06-.94 2.06-2.06.94zm-11 1L8.5 8.5l.94-2.06 2.06-.94-2.06-.94L8.5 2.5l-.94 2.06-2.06.94zm10 10l.94 2.06.94-2.06 2.06-.94-2.06-.94-.94-2.06-.94 2.06-2.06.94z\"/><path d=\"M17.41 7.96l-1.37-1.37c-.4-.4-.92-.59-1.43-.59-.52 0-1.04.2-1.43.59L10.3 9.45l-7.72 7.72c-.78.78-.78 2.05 0 2.83L4 21.41c.39.39.9.59 1.41.59.51 0 1.02-.2 1.41-.59l7.78-7.78 2.81-2.81c.8-.78.8-2.07 0-2.86zM5.41 20L4 18.59l7.72-7.72 1.47 1.35L5.41 20z\"/>\n",
              "  </svg>\n",
              "      </button>\n",
              "      \n",
              "  <style>\n",
              "    .colab-df-container {\n",
              "      display:flex;\n",
              "      flex-wrap:wrap;\n",
              "      gap: 12px;\n",
              "    }\n",
              "\n",
              "    .colab-df-convert {\n",
              "      background-color: #E8F0FE;\n",
              "      border: none;\n",
              "      border-radius: 50%;\n",
              "      cursor: pointer;\n",
              "      display: none;\n",
              "      fill: #1967D2;\n",
              "      height: 32px;\n",
              "      padding: 0 0 0 0;\n",
              "      width: 32px;\n",
              "    }\n",
              "\n",
              "    .colab-df-convert:hover {\n",
              "      background-color: #E2EBFA;\n",
              "      box-shadow: 0px 1px 2px rgba(60, 64, 67, 0.3), 0px 1px 3px 1px rgba(60, 64, 67, 0.15);\n",
              "      fill: #174EA6;\n",
              "    }\n",
              "\n",
              "    [theme=dark] .colab-df-convert {\n",
              "      background-color: #3B4455;\n",
              "      fill: #D2E3FC;\n",
              "    }\n",
              "\n",
              "    [theme=dark] .colab-df-convert:hover {\n",
              "      background-color: #434B5C;\n",
              "      box-shadow: 0px 1px 3px 1px rgba(0, 0, 0, 0.15);\n",
              "      filter: drop-shadow(0px 1px 2px rgba(0, 0, 0, 0.3));\n",
              "      fill: #FFFFFF;\n",
              "    }\n",
              "  </style>\n",
              "\n",
              "      <script>\n",
              "        const buttonEl =\n",
              "          document.querySelector('#df-b9aa423a-c5e1-442e-94e1-6281f670d4d5 button.colab-df-convert');\n",
              "        buttonEl.style.display =\n",
              "          google.colab.kernel.accessAllowed ? 'block' : 'none';\n",
              "\n",
              "        async function convertToInteractive(key) {\n",
              "          const element = document.querySelector('#df-b9aa423a-c5e1-442e-94e1-6281f670d4d5');\n",
              "          const dataTable =\n",
              "            await google.colab.kernel.invokeFunction('convertToInteractive',\n",
              "                                                     [key], {});\n",
              "          if (!dataTable) return;\n",
              "\n",
              "          const docLinkHtml = 'Like what you see? Visit the ' +\n",
              "            '<a target=\"_blank\" href=https://colab.research.google.com/notebooks/data_table.ipynb>data table notebook</a>'\n",
              "            + ' to learn more about interactive tables.';\n",
              "          element.innerHTML = '';\n",
              "          dataTable['output_type'] = 'display_data';\n",
              "          await google.colab.output.renderOutput(dataTable, element);\n",
              "          const docLink = document.createElement('div');\n",
              "          docLink.innerHTML = docLinkHtml;\n",
              "          element.appendChild(docLink);\n",
              "        }\n",
              "      </script>\n",
              "    </div>\n",
              "  </div>\n",
              "  "
            ],
            "text/plain": [
              "    timestamp           tokenAmountIn  ... tokenInSym tokenOutSym\n",
              "0  1606030017                     348  ...        UNI         BAL\n",
              "1  1610476730   87.907993216103989248  ...        BAL         UNI\n",
              "2  1611736783   40.890844784118336934  ...        BAL         UNI\n",
              "3  1618859828  112.259419481903871425  ...        BAL         UNI\n",
              "4  1601954527  138.245503251295453184  ...        UNI         BAL\n",
              "\n",
              "[5 rows x 5 columns]"
            ]
          },
          "metadata": {},
          "execution_count": 5
        }
      ],
      "source": [
        "raw_df = pd.DataFrame(graph_data['swaps'])\n",
        "\n",
        "raw_df.head(5)"
      ]
    },
    {
      "cell_type": "code",
      "execution_count": 6,
      "metadata": {
        "execution": {
          "iopub.execute_input": "2021-06-15T20:38:14.273199Z",
          "iopub.status.busy": "2021-06-15T20:38:14.272443Z",
          "iopub.status.idle": "2021-06-15T20:38:14.275081Z",
          "shell.execute_reply": "2021-06-15T20:38:14.275717Z"
        },
        "colab": {
          "base_uri": "https://localhost:8080/",
          "height": 206
        },
        "id": "d38q7QL_yTXE",
        "outputId": "55ca4bae-933a-42c9-d944-d40b10efbdb9"
      },
      "outputs": [
        {
          "output_type": "execute_result",
          "data": {
            "text/html": [
              "\n",
              "  <div id=\"df-c6831a18-fbac-4208-b058-9dc2cff6231d\">\n",
              "    <div class=\"colab-df-container\">\n",
              "      <div>\n",
              "<style scoped>\n",
              "    .dataframe tbody tr th:only-of-type {\n",
              "        vertical-align: middle;\n",
              "    }\n",
              "\n",
              "    .dataframe tbody tr th {\n",
              "        vertical-align: top;\n",
              "    }\n",
              "\n",
              "    .dataframe thead th {\n",
              "        text-align: right;\n",
              "    }\n",
              "</style>\n",
              "<table border=\"1\" class=\"dataframe\">\n",
              "  <thead>\n",
              "    <tr style=\"text-align: right;\">\n",
              "      <th></th>\n",
              "      <th>index</th>\n",
              "      <th>timestamp</th>\n",
              "      <th>tokenAmountIn</th>\n",
              "      <th>tokenAmountOut</th>\n",
              "      <th>tokenInSym</th>\n",
              "      <th>tokenOutSym</th>\n",
              "    </tr>\n",
              "  </thead>\n",
              "  <tbody>\n",
              "    <tr>\n",
              "      <th>0</th>\n",
              "      <td>76</td>\n",
              "      <td>2020-09-19 15:11:26</td>\n",
              "      <td>213.163101</td>\n",
              "      <td>78.928218</td>\n",
              "      <td>UNI</td>\n",
              "      <td>BAL</td>\n",
              "    </tr>\n",
              "    <tr>\n",
              "      <th>1</th>\n",
              "      <td>73</td>\n",
              "      <td>2020-09-21 18:58:57</td>\n",
              "      <td>53.681512</td>\n",
              "      <td>185.873296</td>\n",
              "      <td>BAL</td>\n",
              "      <td>UNI</td>\n",
              "    </tr>\n",
              "    <tr>\n",
              "      <th>2</th>\n",
              "      <td>44</td>\n",
              "      <td>2020-09-24 00:26:18</td>\n",
              "      <td>52.072207</td>\n",
              "      <td>156.679612</td>\n",
              "      <td>BAL</td>\n",
              "      <td>UNI</td>\n",
              "    </tr>\n",
              "    <tr>\n",
              "      <th>3</th>\n",
              "      <td>57</td>\n",
              "      <td>2020-09-24 12:54:53</td>\n",
              "      <td>203.769109</td>\n",
              "      <td>69.935233</td>\n",
              "      <td>UNI</td>\n",
              "      <td>BAL</td>\n",
              "    </tr>\n",
              "    <tr>\n",
              "      <th>4</th>\n",
              "      <td>64</td>\n",
              "      <td>2020-09-24 22:49:34</td>\n",
              "      <td>17.135790</td>\n",
              "      <td>50.760343</td>\n",
              "      <td>BAL</td>\n",
              "      <td>UNI</td>\n",
              "    </tr>\n",
              "  </tbody>\n",
              "</table>\n",
              "</div>\n",
              "      <button class=\"colab-df-convert\" onclick=\"convertToInteractive('df-c6831a18-fbac-4208-b058-9dc2cff6231d')\"\n",
              "              title=\"Convert this dataframe to an interactive table.\"\n",
              "              style=\"display:none;\">\n",
              "        \n",
              "  <svg xmlns=\"http://www.w3.org/2000/svg\" height=\"24px\"viewBox=\"0 0 24 24\"\n",
              "       width=\"24px\">\n",
              "    <path d=\"M0 0h24v24H0V0z\" fill=\"none\"/>\n",
              "    <path d=\"M18.56 5.44l.94 2.06.94-2.06 2.06-.94-2.06-.94-.94-2.06-.94 2.06-2.06.94zm-11 1L8.5 8.5l.94-2.06 2.06-.94-2.06-.94L8.5 2.5l-.94 2.06-2.06.94zm10 10l.94 2.06.94-2.06 2.06-.94-2.06-.94-.94-2.06-.94 2.06-2.06.94z\"/><path d=\"M17.41 7.96l-1.37-1.37c-.4-.4-.92-.59-1.43-.59-.52 0-1.04.2-1.43.59L10.3 9.45l-7.72 7.72c-.78.78-.78 2.05 0 2.83L4 21.41c.39.39.9.59 1.41.59.51 0 1.02-.2 1.41-.59l7.78-7.78 2.81-2.81c.8-.78.8-2.07 0-2.86zM5.41 20L4 18.59l7.72-7.72 1.47 1.35L5.41 20z\"/>\n",
              "  </svg>\n",
              "      </button>\n",
              "      \n",
              "  <style>\n",
              "    .colab-df-container {\n",
              "      display:flex;\n",
              "      flex-wrap:wrap;\n",
              "      gap: 12px;\n",
              "    }\n",
              "\n",
              "    .colab-df-convert {\n",
              "      background-color: #E8F0FE;\n",
              "      border: none;\n",
              "      border-radius: 50%;\n",
              "      cursor: pointer;\n",
              "      display: none;\n",
              "      fill: #1967D2;\n",
              "      height: 32px;\n",
              "      padding: 0 0 0 0;\n",
              "      width: 32px;\n",
              "    }\n",
              "\n",
              "    .colab-df-convert:hover {\n",
              "      background-color: #E2EBFA;\n",
              "      box-shadow: 0px 1px 2px rgba(60, 64, 67, 0.3), 0px 1px 3px 1px rgba(60, 64, 67, 0.15);\n",
              "      fill: #174EA6;\n",
              "    }\n",
              "\n",
              "    [theme=dark] .colab-df-convert {\n",
              "      background-color: #3B4455;\n",
              "      fill: #D2E3FC;\n",
              "    }\n",
              "\n",
              "    [theme=dark] .colab-df-convert:hover {\n",
              "      background-color: #434B5C;\n",
              "      box-shadow: 0px 1px 3px 1px rgba(0, 0, 0, 0.15);\n",
              "      filter: drop-shadow(0px 1px 2px rgba(0, 0, 0, 0.3));\n",
              "      fill: #FFFFFF;\n",
              "    }\n",
              "  </style>\n",
              "\n",
              "      <script>\n",
              "        const buttonEl =\n",
              "          document.querySelector('#df-c6831a18-fbac-4208-b058-9dc2cff6231d button.colab-df-convert');\n",
              "        buttonEl.style.display =\n",
              "          google.colab.kernel.accessAllowed ? 'block' : 'none';\n",
              "\n",
              "        async function convertToInteractive(key) {\n",
              "          const element = document.querySelector('#df-c6831a18-fbac-4208-b058-9dc2cff6231d');\n",
              "          const dataTable =\n",
              "            await google.colab.kernel.invokeFunction('convertToInteractive',\n",
              "                                                     [key], {});\n",
              "          if (!dataTable) return;\n",
              "\n",
              "          const docLinkHtml = 'Like what you see? Visit the ' +\n",
              "            '<a target=\"_blank\" href=https://colab.research.google.com/notebooks/data_table.ipynb>data table notebook</a>'\n",
              "            + ' to learn more about interactive tables.';\n",
              "          element.innerHTML = '';\n",
              "          dataTable['output_type'] = 'display_data';\n",
              "          await google.colab.output.renderOutput(dataTable, element);\n",
              "          const docLink = document.createElement('div');\n",
              "          docLink.innerHTML = docLinkHtml;\n",
              "          element.appendChild(docLink);\n",
              "        }\n",
              "      </script>\n",
              "    </div>\n",
              "  </div>\n",
              "  "
            ],
            "text/plain": [
              "   index           timestamp  ...  tokenInSym  tokenOutSym\n",
              "0     76 2020-09-19 15:11:26  ...         UNI          BAL\n",
              "1     73 2020-09-21 18:58:57  ...         BAL          UNI\n",
              "2     44 2020-09-24 00:26:18  ...         BAL          UNI\n",
              "3     57 2020-09-24 12:54:53  ...         UNI          BAL\n",
              "4     64 2020-09-24 22:49:34  ...         BAL          UNI\n",
              "\n",
              "[5 rows x 6 columns]"
            ]
          },
          "metadata": {},
          "execution_count": 6
        }
      ],
      "source": [
        "# Clean the data:\n",
        "# 1. convert the raw timestamps to Python DateTime objects\n",
        "# 2. make the token flow values numerical\n",
        "# 3. order by time\n",
        "df = (raw_df.assign(timestamp=lambda df: pd.to_datetime(df.timestamp, unit='s'))\n",
        "            .assign(tokenAmountIn=lambda df: pd.to_numeric(df.tokenAmountIn))\n",
        "            .assign(tokenAmountOut=lambda df: pd.to_numeric(df.tokenAmountOut))\n",
        "            .sort_values('timestamp')\n",
        "            .reset_index()\n",
        "      )\n",
        "\n",
        "df.head(5)"
      ]
    },
    {
      "cell_type": "markdown",
      "metadata": {
        "id": "r1Xa2OO6yTXE"
      },
      "source": [
        "# Modelling"
      ]
    },
    {
      "cell_type": "markdown",
      "metadata": {
        "id": "TrQiRK2nyTXF"
      },
      "source": [
        "## 1. State Variables"
      ]
    },
    {
      "cell_type": "code",
      "execution_count": 7,
      "metadata": {
        "execution": {
          "iopub.execute_input": "2021-06-15T20:38:14.280368Z",
          "iopub.status.busy": "2021-06-15T20:38:14.279597Z",
          "iopub.status.idle": "2021-06-15T20:38:14.282120Z",
          "shell.execute_reply": "2021-06-15T20:38:14.282568Z"
        },
        "colab": {
          "base_uri": "https://localhost:8080/"
        },
        "id": "do2alcwvyTXF",
        "outputId": "89b9149c-27aa-40dd-c797-7ed5e9e1289f"
      },
      "outputs": [
        {
          "output_type": "execute_result",
          "data": {
            "text/plain": [
              "{'cumulative_fee_BAL': 0.0,\n",
              " 'cumulative_fee_UNI': 0.0,\n",
              " 'cumulative_swap_BAL': 0.0,\n",
              " 'cumulative_swap_UNI': 0.0}"
            ]
          },
          "metadata": {},
          "execution_count": 7
        }
      ],
      "source": [
        "initial_state = {\n",
        "    # Cumulative transaction fees paid for each token\n",
        "    'cumulative_fee_BAL': 0.0,\n",
        "    'cumulative_fee_UNI': 0.0,\n",
        "    \n",
        "    # Cumulative swap volume\n",
        "    # (positive means more tokens locked)\n",
        "    # (negative means less tokens locked)\n",
        "    'cumulative_swap_BAL': 0.0,\n",
        "    'cumulative_swap_UNI': 0.0   \n",
        "}\n",
        "initial_state"
      ]
    },
    {
      "cell_type": "markdown",
      "metadata": {
        "id": "9ObAKKN_yTXF"
      },
      "source": [
        "## 2. System Parameters"
      ]
    },
    {
      "cell_type": "code",
      "execution_count": 8,
      "metadata": {
        "execution": {
          "iopub.execute_input": "2021-06-15T20:38:14.287415Z",
          "iopub.status.busy": "2021-06-15T20:38:14.286746Z",
          "iopub.status.idle": "2021-06-15T20:38:14.288593Z",
          "shell.execute_reply": "2021-06-15T20:38:14.289037Z"
        },
        "id": "tEx0qetXyTXF"
      },
      "outputs": [],
      "source": [
        "# Transform the swap history data frame into a {timestep: data} dictionary\n",
        "swap_dict = df.to_dict(orient='index')\n",
        "\n",
        "system_params = {\n",
        "    'swap_sequence': [swap_dict],\n",
        "    \n",
        "    # Transaction fees being applied to the input token\n",
        "    'transaction_fee': [0.01, 0.05]\n",
        "}\n",
        "\n",
        "# Element for timestep = 3"
      ]
    },
    {
      "cell_type": "markdown",
      "metadata": {
        "id": "CaGIqhOhyTXG"
      },
      "source": [
        "## 3. Policy Functions"
      ]
    },
    {
      "cell_type": "code",
      "execution_count": 9,
      "metadata": {
        "execution": {
          "iopub.execute_input": "2021-06-15T20:38:14.294864Z",
          "iopub.status.busy": "2021-06-15T20:38:14.294191Z",
          "iopub.status.idle": "2021-06-15T20:38:14.296012Z",
          "shell.execute_reply": "2021-06-15T20:38:14.296446Z"
        },
        "id": "I5ksptfSyTXG"
      },
      "outputs": [],
      "source": [
        "def p_swap(params, substep, state_history, previous_state):\n",
        "    \"\"\"\n",
        "    Calculate cumulative transaction fees & swaps\n",
        "    from a swap event\n",
        "    \"\"\"\n",
        "    t = previous_state['timestep']\n",
        "    \n",
        "    # Data for this timestep\n",
        "    ts_data = params['swap_sequence'][t]    \n",
        "    \n",
        "    timestamp = ts_data['timestamp']\n",
        "    # Swap amounts\n",
        "    # swap_in: Swap being locked to the pool\n",
        "    swap_in = ts_data['tokenAmountIn']\n",
        "    # swap_out: Swap being unlocked from the pool\n",
        "    swap_out = -1.0 * ts_data['tokenAmountOut']\n",
        "    \n",
        "    # Fee to be paid\n",
        "    swap_fee = swap_in * params['transaction_fee']\n",
        "    \n",
        "    # Logic for mapping the input and output into tokens\n",
        "    if ts_data['tokenInSym'] == 'UNI':\n",
        "        fee_UNI = swap_fee\n",
        "        fee_BAL = 0.0\n",
        "        swap_UNI = swap_in\n",
        "        swap_BAL = swap_out\n",
        "    elif ts_data['tokenInSym'] == 'BAL':\n",
        "        fee_UNI = 0.0\n",
        "        fee_BAL = swap_fee\n",
        "        swap_UNI = swap_out\n",
        "        swap_BAL = swap_in\n",
        "    else:\n",
        "        raise Exception\n",
        "\n",
        "    return {'fee_UNI': fee_UNI,\n",
        "            'fee_BAL': fee_BAL,\n",
        "            'swap_UNI': swap_UNI,\n",
        "            'swap_BAL': swap_BAL,\n",
        "            'timestamp': timestamp}"
      ]
    },
    {
      "cell_type": "markdown",
      "metadata": {
        "id": "oi3DNG2nyTXG"
      },
      "source": [
        "## 4. State Update Functions"
      ]
    },
    {
      "cell_type": "code",
      "execution_count": 10,
      "metadata": {
        "execution": {
          "iopub.execute_input": "2021-06-15T20:38:14.302586Z",
          "iopub.status.busy": "2021-06-15T20:38:14.301790Z",
          "iopub.status.idle": "2021-06-15T20:38:14.303592Z",
          "shell.execute_reply": "2021-06-15T20:38:14.303971Z"
        },
        "id": "NVFwrvkmyTXH"
      },
      "outputs": [],
      "source": [
        "def s_timestamp(params,\n",
        "                      substep,\n",
        "                      state_history,\n",
        "                      previous_state,\n",
        "                      policy_input):\n",
        "    value = policy_input['timestamp']\n",
        "    return ('timestamp', value)\n",
        "\n",
        "def s_cumulative_fee_UNI(params,\n",
        "                              substep,\n",
        "                              state_history,\n",
        "                              previous_state,\n",
        "                              policy_input):\n",
        "    variable = 'cumulative_fee_UNI'\n",
        "    fee = policy_input['fee_UNI']\n",
        "    value = previous_state['cumulative_fee_UNI'] + fee \n",
        "    return (variable, value)\n",
        "\n",
        "\n",
        "def s_cumulative_fee_BAL(params,\n",
        "                              substep,\n",
        "                              state_history,\n",
        "                              previous_state,\n",
        "                              policy_input):\n",
        "    variable = 'cumulative_fee_BAL'\n",
        "    fee = policy_input['fee_BAL']\n",
        "    value = previous_state['cumulative_fee_BAL'] + fee \n",
        "    return (variable, value)\n",
        "\n",
        "\n",
        "def s_cumulative_swap_UNI(params,\n",
        "                              substep,\n",
        "                              state_history,\n",
        "                              previous_state,\n",
        "                              policy_input):\n",
        "    variable = 'cumulative_swap_UNI'\n",
        "    swap = policy_input['swap_UNI']\n",
        "    value = previous_state['cumulative_swap_UNI'] + swap\n",
        "    return (variable, value)\n",
        "\n",
        "\n",
        "def s_cumulative_swap_BAL(params,\n",
        "                              substep,\n",
        "                              state_history,\n",
        "                              previous_state,\n",
        "                              policy_input):\n",
        "    variable = 'cumulative_swap_BAL'\n",
        "    swap = policy_input['swap_BAL']\n",
        "    value = previous_state['cumulative_swap_BAL'] + swap\n",
        "    return (variable, value)"
      ]
    },
    {
      "cell_type": "markdown",
      "metadata": {
        "id": "UQzdpoCJyTXH"
      },
      "source": [
        "## 5. Partial State Update Blocks"
      ]
    },
    {
      "cell_type": "code",
      "execution_count": 11,
      "metadata": {
        "execution": {
          "iopub.execute_input": "2021-06-15T20:38:14.307339Z",
          "iopub.status.busy": "2021-06-15T20:38:14.306726Z",
          "iopub.status.idle": "2021-06-15T20:38:14.308144Z",
          "shell.execute_reply": "2021-06-15T20:38:14.308678Z"
        },
        "id": "3s7Y8qt0yTXH"
      },
      "outputs": [],
      "source": [
        "partial_state_update_blocks = [\n",
        "    {\n",
        "        'policies': {\n",
        "            'policy_swap': p_swap\n",
        "        },\n",
        "        'variables': {\n",
        "            'timestamp': s_timestamp,\n",
        "            'cumulative_fee_UNI': s_cumulative_fee_UNI,\n",
        "            'cumulative_fee_BAL': s_cumulative_fee_BAL,\n",
        "            'cumulative_swap_UNI': s_cumulative_swap_UNI,\n",
        "            'cumulative_swap_BAL': s_cumulative_swap_BAL\n",
        "        }\n",
        "    }\n",
        "]"
      ]
    },
    {
      "cell_type": "markdown",
      "metadata": {
        "id": "PAFJv5H-yTXH"
      },
      "source": [
        "# Simulation"
      ]
    },
    {
      "cell_type": "markdown",
      "metadata": {
        "id": "MjWz898JyTXI"
      },
      "source": [
        "## 6. Configuration"
      ]
    },
    {
      "cell_type": "code",
      "execution_count": 12,
      "metadata": {
        "execution": {
          "iopub.execute_input": "2021-06-15T20:38:14.311711Z",
          "iopub.status.busy": "2021-06-15T20:38:14.311173Z",
          "iopub.status.idle": "2021-06-15T20:38:14.312812Z",
          "shell.execute_reply": "2021-06-15T20:38:14.313196Z"
        },
        "id": "CiN1bCSgyTXI"
      },
      "outputs": [],
      "source": [
        "sim_config = config_sim({\n",
        "    \"N\": 1, # the number of times we'll run the simulation (\"Monte Carlo runs\")\n",
        "    \"T\": range(len(df)), # the number of timesteps the simulation will run for\n",
        "    \"M\": system_params # the parameters of the system\n",
        "})"
      ]
    },
    {
      "cell_type": "code",
      "execution_count": 13,
      "metadata": {
        "execution": {
          "iopub.execute_input": "2021-06-15T20:38:14.316105Z",
          "iopub.status.busy": "2021-06-15T20:38:14.315555Z",
          "iopub.status.idle": "2021-06-15T20:38:14.317352Z",
          "shell.execute_reply": "2021-06-15T20:38:14.317731Z"
        },
        "id": "1dp6Cdz7yTXI"
      },
      "outputs": [],
      "source": [
        "del configs[:] # Clear any prior configs"
      ]
    },
    {
      "cell_type": "code",
      "execution_count": 14,
      "metadata": {
        "execution": {
          "iopub.execute_input": "2021-06-15T20:38:14.323624Z",
          "iopub.status.busy": "2021-06-15T20:38:14.323082Z",
          "iopub.status.idle": "2021-06-15T20:38:14.324773Z",
          "shell.execute_reply": "2021-06-15T20:38:14.325155Z"
        },
        "id": "5wPtLHzoyTXI"
      },
      "outputs": [],
      "source": [
        "experiment = Experiment()\n",
        "experiment.append_configs(\n",
        "    initial_state = initial_state,\n",
        "    partial_state_update_blocks = partial_state_update_blocks,\n",
        "    sim_configs = sim_config\n",
        ")"
      ]
    },
    {
      "cell_type": "markdown",
      "metadata": {
        "id": "QEDLoAbQyTXI"
      },
      "source": [
        "## 7. Execution"
      ]
    },
    {
      "cell_type": "code",
      "execution_count": 15,
      "metadata": {
        "execution": {
          "iopub.execute_input": "2021-06-15T20:38:14.334207Z",
          "iopub.status.busy": "2021-06-15T20:38:14.333591Z",
          "iopub.status.idle": "2021-06-15T20:38:14.356629Z",
          "shell.execute_reply": "2021-06-15T20:38:14.357023Z"
        },
        "colab": {
          "base_uri": "https://localhost:8080/"
        },
        "id": "2Uuu49kLyTXJ",
        "outputId": "a61a58a2-d80c-46ef-9d25-e112a2e52e28"
      },
      "outputs": [
        {
          "output_type": "stream",
          "name": "stdout",
          "text": [
            "\n",
            "                  ___________    ____\n",
            "  ________ __ ___/ / ____/   |  / __ \\\n",
            " / ___/ __` / __  / /   / /| | / / / /\n",
            "/ /__/ /_/ / /_/ / /___/ ___ |/ /_/ /\n",
            "\\___/\\__,_/\\__,_/\\____/_/  |_/_____/\n",
            "by cadCAD\n",
            "\n",
            "Execution Mode: local_proc\n",
            "Configuration Count: 1\n",
            "Dimensions of the first simulation: (Timesteps, Params, Runs, Vars) = (100, 2, 2, 4)\n",
            "Execution Method: local_simulations\n",
            "SimIDs   : [0, 0]\n",
            "SubsetIDs: [0, 1]\n",
            "Ns       : [0, 1]\n",
            "ExpIDs   : [0, 0]\n",
            "Execution Mode: parallelized\n",
            "Total execution time: 0.04s\n"
          ]
        }
      ],
      "source": [
        "exec_context = ExecutionContext()\n",
        "simulation = Executor(exec_context=exec_context, configs=configs)\n",
        "raw_result, tensor_field, sessions = simulation.execute()"
      ]
    },
    {
      "cell_type": "markdown",
      "metadata": {
        "id": "UmgMKOYjyTXJ"
      },
      "source": [
        "## 8. Output Preparation"
      ]
    },
    {
      "cell_type": "code",
      "execution_count": 16,
      "metadata": {
        "execution": {
          "iopub.execute_input": "2021-06-15T20:38:14.367309Z",
          "iopub.status.busy": "2021-06-15T20:38:14.366679Z",
          "iopub.status.idle": "2021-06-15T20:38:14.369312Z",
          "shell.execute_reply": "2021-06-15T20:38:14.368894Z"
        },
        "colab": {
          "base_uri": "https://localhost:8080/",
          "height": 206
        },
        "id": "9a7hnePtyTXJ",
        "outputId": "43d262c6-69bd-4f45-c7ce-c6508353802e"
      },
      "outputs": [
        {
          "output_type": "execute_result",
          "data": {
            "text/html": [
              "\n",
              "  <div id=\"df-3bf73ceb-4d7c-47ef-a1f6-9e797cb1b669\">\n",
              "    <div class=\"colab-df-container\">\n",
              "      <div>\n",
              "<style scoped>\n",
              "    .dataframe tbody tr th:only-of-type {\n",
              "        vertical-align: middle;\n",
              "    }\n",
              "\n",
              "    .dataframe tbody tr th {\n",
              "        vertical-align: top;\n",
              "    }\n",
              "\n",
              "    .dataframe thead th {\n",
              "        text-align: right;\n",
              "    }\n",
              "</style>\n",
              "<table border=\"1\" class=\"dataframe\">\n",
              "  <thead>\n",
              "    <tr style=\"text-align: right;\">\n",
              "      <th></th>\n",
              "      <th>cumulative_fee_BAL</th>\n",
              "      <th>cumulative_fee_UNI</th>\n",
              "      <th>cumulative_swap_BAL</th>\n",
              "      <th>cumulative_swap_UNI</th>\n",
              "      <th>simulation</th>\n",
              "      <th>subset</th>\n",
              "      <th>run</th>\n",
              "      <th>substep</th>\n",
              "      <th>timestep</th>\n",
              "      <th>timestamp</th>\n",
              "    </tr>\n",
              "  </thead>\n",
              "  <tbody>\n",
              "    <tr>\n",
              "      <th>0</th>\n",
              "      <td>0.000000</td>\n",
              "      <td>0.000000</td>\n",
              "      <td>0.000000</td>\n",
              "      <td>0.000000</td>\n",
              "      <td>0</td>\n",
              "      <td>0</td>\n",
              "      <td>1</td>\n",
              "      <td>0</td>\n",
              "      <td>0</td>\n",
              "      <td>NaT</td>\n",
              "    </tr>\n",
              "    <tr>\n",
              "      <th>1</th>\n",
              "      <td>0.000000</td>\n",
              "      <td>2.131631</td>\n",
              "      <td>-78.928218</td>\n",
              "      <td>213.163101</td>\n",
              "      <td>0</td>\n",
              "      <td>0</td>\n",
              "      <td>1</td>\n",
              "      <td>1</td>\n",
              "      <td>1</td>\n",
              "      <td>2020-09-19 15:11:26</td>\n",
              "    </tr>\n",
              "    <tr>\n",
              "      <th>2</th>\n",
              "      <td>0.536815</td>\n",
              "      <td>2.131631</td>\n",
              "      <td>-25.246706</td>\n",
              "      <td>27.289805</td>\n",
              "      <td>0</td>\n",
              "      <td>0</td>\n",
              "      <td>1</td>\n",
              "      <td>1</td>\n",
              "      <td>2</td>\n",
              "      <td>2020-09-21 18:58:57</td>\n",
              "    </tr>\n",
              "    <tr>\n",
              "      <th>3</th>\n",
              "      <td>1.057537</td>\n",
              "      <td>2.131631</td>\n",
              "      <td>26.825501</td>\n",
              "      <td>-129.389807</td>\n",
              "      <td>0</td>\n",
              "      <td>0</td>\n",
              "      <td>1</td>\n",
              "      <td>1</td>\n",
              "      <td>3</td>\n",
              "      <td>2020-09-24 00:26:18</td>\n",
              "    </tr>\n",
              "    <tr>\n",
              "      <th>4</th>\n",
              "      <td>1.057537</td>\n",
              "      <td>4.169322</td>\n",
              "      <td>-43.109731</td>\n",
              "      <td>74.379302</td>\n",
              "      <td>0</td>\n",
              "      <td>0</td>\n",
              "      <td>1</td>\n",
              "      <td>1</td>\n",
              "      <td>4</td>\n",
              "      <td>2020-09-24 12:54:53</td>\n",
              "    </tr>\n",
              "  </tbody>\n",
              "</table>\n",
              "</div>\n",
              "      <button class=\"colab-df-convert\" onclick=\"convertToInteractive('df-3bf73ceb-4d7c-47ef-a1f6-9e797cb1b669')\"\n",
              "              title=\"Convert this dataframe to an interactive table.\"\n",
              "              style=\"display:none;\">\n",
              "        \n",
              "  <svg xmlns=\"http://www.w3.org/2000/svg\" height=\"24px\"viewBox=\"0 0 24 24\"\n",
              "       width=\"24px\">\n",
              "    <path d=\"M0 0h24v24H0V0z\" fill=\"none\"/>\n",
              "    <path d=\"M18.56 5.44l.94 2.06.94-2.06 2.06-.94-2.06-.94-.94-2.06-.94 2.06-2.06.94zm-11 1L8.5 8.5l.94-2.06 2.06-.94-2.06-.94L8.5 2.5l-.94 2.06-2.06.94zm10 10l.94 2.06.94-2.06 2.06-.94-2.06-.94-.94-2.06-.94 2.06-2.06.94z\"/><path d=\"M17.41 7.96l-1.37-1.37c-.4-.4-.92-.59-1.43-.59-.52 0-1.04.2-1.43.59L10.3 9.45l-7.72 7.72c-.78.78-.78 2.05 0 2.83L4 21.41c.39.39.9.59 1.41.59.51 0 1.02-.2 1.41-.59l7.78-7.78 2.81-2.81c.8-.78.8-2.07 0-2.86zM5.41 20L4 18.59l7.72-7.72 1.47 1.35L5.41 20z\"/>\n",
              "  </svg>\n",
              "      </button>\n",
              "      \n",
              "  <style>\n",
              "    .colab-df-container {\n",
              "      display:flex;\n",
              "      flex-wrap:wrap;\n",
              "      gap: 12px;\n",
              "    }\n",
              "\n",
              "    .colab-df-convert {\n",
              "      background-color: #E8F0FE;\n",
              "      border: none;\n",
              "      border-radius: 50%;\n",
              "      cursor: pointer;\n",
              "      display: none;\n",
              "      fill: #1967D2;\n",
              "      height: 32px;\n",
              "      padding: 0 0 0 0;\n",
              "      width: 32px;\n",
              "    }\n",
              "\n",
              "    .colab-df-convert:hover {\n",
              "      background-color: #E2EBFA;\n",
              "      box-shadow: 0px 1px 2px rgba(60, 64, 67, 0.3), 0px 1px 3px 1px rgba(60, 64, 67, 0.15);\n",
              "      fill: #174EA6;\n",
              "    }\n",
              "\n",
              "    [theme=dark] .colab-df-convert {\n",
              "      background-color: #3B4455;\n",
              "      fill: #D2E3FC;\n",
              "    }\n",
              "\n",
              "    [theme=dark] .colab-df-convert:hover {\n",
              "      background-color: #434B5C;\n",
              "      box-shadow: 0px 1px 3px 1px rgba(0, 0, 0, 0.15);\n",
              "      filter: drop-shadow(0px 1px 2px rgba(0, 0, 0, 0.3));\n",
              "      fill: #FFFFFF;\n",
              "    }\n",
              "  </style>\n",
              "\n",
              "      <script>\n",
              "        const buttonEl =\n",
              "          document.querySelector('#df-3bf73ceb-4d7c-47ef-a1f6-9e797cb1b669 button.colab-df-convert');\n",
              "        buttonEl.style.display =\n",
              "          google.colab.kernel.accessAllowed ? 'block' : 'none';\n",
              "\n",
              "        async function convertToInteractive(key) {\n",
              "          const element = document.querySelector('#df-3bf73ceb-4d7c-47ef-a1f6-9e797cb1b669');\n",
              "          const dataTable =\n",
              "            await google.colab.kernel.invokeFunction('convertToInteractive',\n",
              "                                                     [key], {});\n",
              "          if (!dataTable) return;\n",
              "\n",
              "          const docLinkHtml = 'Like what you see? Visit the ' +\n",
              "            '<a target=\"_blank\" href=https://colab.research.google.com/notebooks/data_table.ipynb>data table notebook</a>'\n",
              "            + ' to learn more about interactive tables.';\n",
              "          element.innerHTML = '';\n",
              "          dataTable['output_type'] = 'display_data';\n",
              "          await google.colab.output.renderOutput(dataTable, element);\n",
              "          const docLink = document.createElement('div');\n",
              "          docLink.innerHTML = docLinkHtml;\n",
              "          element.appendChild(docLink);\n",
              "        }\n",
              "      </script>\n",
              "    </div>\n",
              "  </div>\n",
              "  "
            ],
            "text/plain": [
              "   cumulative_fee_BAL  cumulative_fee_UNI  ...  timestep           timestamp\n",
              "0            0.000000            0.000000  ...         0                 NaT\n",
              "1            0.000000            2.131631  ...         1 2020-09-19 15:11:26\n",
              "2            0.536815            2.131631  ...         2 2020-09-21 18:58:57\n",
              "3            1.057537            2.131631  ...         3 2020-09-24 00:26:18\n",
              "4            1.057537            4.169322  ...         4 2020-09-24 12:54:53\n",
              "\n",
              "[5 rows x 10 columns]"
            ]
          },
          "metadata": {},
          "execution_count": 16
        }
      ],
      "source": [
        "simulation_result = pd.DataFrame(raw_result)\n",
        "simulation_result.head(5)"
      ]
    },
    {
      "cell_type": "markdown",
      "metadata": {
        "id": "GsI4v_mMyTXJ"
      },
      "source": [
        "## 9. Analysis"
      ]
    },
    {
      "cell_type": "code",
      "execution_count": 17,
      "metadata": {
        "execution": {
          "iopub.execute_input": "2021-06-15T20:38:14.372481Z",
          "iopub.status.busy": "2021-06-15T20:38:14.371908Z",
          "iopub.status.idle": "2021-06-15T20:38:14.777964Z",
          "shell.execute_reply": "2021-06-15T20:38:14.777491Z"
        },
        "colab": {
          "base_uri": "https://localhost:8080/",
          "height": 542
        },
        "id": "Hj3BZTITyTXJ",
        "outputId": "bf3bff8b-d492-4e6d-ed69-e3998193db7f"
      },
      "outputs": [
        {
          "output_type": "display_data",
          "data": {
            "text/html": [
              "<html>\n",
              "<head><meta charset=\"utf-8\" /></head>\n",
              "<body>\n",
              "    <div>            <script src=\"https://cdnjs.cloudflare.com/ajax/libs/mathjax/2.7.5/MathJax.js?config=TeX-AMS-MML_SVG\"></script><script type=\"text/javascript\">if (window.MathJax) {MathJax.Hub.Config({SVG: {font: \"STIX-Web\"}});}</script>                <script type=\"text/javascript\">window.PlotlyConfig = {MathJaxConfig: 'local'};</script>\n",
              "        <script src=\"https://cdn.plot.ly/plotly-2.8.3.min.js\"></script>                <div id=\"86866f6f-1164-4e13-a995-3c437442a754\" class=\"plotly-graph-div\" style=\"height:525px; width:100%;\"></div>            <script type=\"text/javascript\">                                    window.PLOTLYENV=window.PLOTLYENV || {};                                    if (document.getElementById(\"86866f6f-1164-4e13-a995-3c437442a754\")) {                    Plotly.newPlot(                        \"86866f6f-1164-4e13-a995-3c437442a754\",                        [{\"hovertemplate\":\"variable=cumulative_fee_BAL<br>subset=0<br>timestamp=%{x}<br>value=%{y}<extra></extra>\",\"legendgroup\":\"cumulative_fee_BAL\",\"line\":{\"color\":\"#636efa\",\"dash\":\"solid\"},\"marker\":{\"symbol\":\"circle\"},\"mode\":\"lines\",\"name\":\"cumulative_fee_BAL\",\"orientation\":\"v\",\"showlegend\":true,\"x\":[null,\"2020-09-19T15:11:26\",\"2020-09-21T18:58:57\",\"2020-09-24T00:26:18\",\"2020-09-24T12:54:53\",\"2020-09-24T22:49:34\",\"2020-10-01T22:59:44\",\"2020-10-05T16:11:06\",\"2020-10-06T03:22:07\",\"2020-10-07T17:06:12\",\"2020-10-11T08:53:14\",\"2020-10-16T05:05:17\",\"2020-10-16T05:08:35\",\"2020-10-18T19:40:42\",\"2020-10-30T02:13:05\",\"2020-10-30T23:51:20\",\"2020-11-05T03:29:29\",\"2020-11-05T13:58:07\",\"2020-11-06T00:25:48\",\"2020-11-07T01:51:04\",\"2020-11-07T01:52:48\",\"2020-11-10T02:07:53\",\"2020-11-10T19:29:49\",\"2020-11-13T03:07:10\",\"2020-11-13T08:28:01\",\"2020-11-16T19:06:00\",\"2020-11-18T21:08:01\",\"2020-11-20T18:51:56\",\"2020-11-22T07:26:57\",\"2020-11-22T18:48:21\",\"2020-11-23T21:23:06\",\"2020-11-24T12:01:26\",\"2020-11-26T01:06:52\",\"2020-11-28T03:50:24\",\"2020-11-28T10:52:10\",\"2020-12-01T07:16:00\",\"2020-12-02T15:20:03\",\"2020-12-08T16:38:16\",\"2020-12-14T22:38:01\",\"2020-12-14T23:16:25\",\"2020-12-17T07:32:14\",\"2020-12-19T11:12:39\",\"2021-01-01T00:16:42\",\"2021-01-07T22:08:12\",\"2021-01-12T18:38:50\",\"2021-01-18T08:06:39\",\"2021-01-19T10:21:22\",\"2021-01-19T12:38:20\",\"2021-01-23T21:32:30\",\"2021-01-24T01:18:45\",\"2021-01-27T08:39:43\",\"2021-01-28T04:03:19\",\"2021-01-29T06:40:17\",\"2021-01-30T12:59:23\",\"2021-01-30T16:15:56\",\"2021-01-30T23:40:04\",\"2021-01-31T15:15:35\",\"2021-02-01T16:49:02\",\"2021-02-02T00:18:51\",\"2021-02-02T17:24:47\",\"2021-02-07T12:31:13\",\"2021-02-10T23:50:10\",\"2021-02-12T13:46:42\",\"2021-02-20T06:12:31\",\"2021-02-20T11:24:31\",\"2021-02-23T09:49:33\",\"2021-02-24T01:25:06\",\"2021-03-13T05:19:49\",\"2021-03-13T06:17:29\",\"2021-03-18T04:11:05\",\"2021-03-20T12:47:57\",\"2021-03-20T16:26:52\",\"2021-03-23T20:15:01\",\"2021-03-30T04:40:12\",\"2021-04-03T06:17:44\",\"2021-04-03T06:28:47\",\"2021-04-12T17:07:30\",\"2021-04-14T13:29:51\",\"2021-04-15T06:57:35\",\"2021-04-19T19:17:08\",\"2021-04-22T16:13:47\",\"2021-04-22T16:50:34\",\"2021-04-25T10:04:16\",\"2021-04-25T13:59:46\",\"2021-04-29T14:42:42\",\"2021-05-10T00:21:32\",\"2021-05-29T13:05:50\",\"2021-06-24T02:34:48\",\"2021-06-26T15:19:56\",\"2021-06-28T05:32:48\",\"2021-06-30T15:02:17\",\"2021-07-31T03:07:28\",\"2021-08-17T22:14:42\",\"2021-08-21T09:34:42\",\"2021-09-02T10:54:44\",\"2021-09-04T01:53:09\",\"2021-09-07T17:33:48\",\"2021-09-30T09:05:45\",\"2021-10-28T07:43:32\",\"2021-12-03T16:31:23\",\"2021-12-18T10:05:48\"],\"xaxis\":\"x2\",\"y\":[0.0,0.0,0.5368151215256897,1.0575371964741,1.0575371964741,1.2288950971838033,1.688561531104992,1.688561531104992,1.688561531104992,1.688561531104992,2.191512037621319,2.9943178093053904,3.658928494775995,3.9080163538490367,3.9080163538490367,4.079717818736508,4.079717818736508,4.553700856269501,4.795942140937515,5.3662484095310035,5.917199952793844,5.917199952793844,5.917199952793844,6.402734640075603,6.932266362808845,7.100673668360279,7.100673668360279,7.100673668360279,7.100673668360279,7.100673668360279,7.403971329205656,7.610081401103442,7.610081401103442,7.610081401103442,7.9266364829765115,8.51254706203039,9.084941403424926,9.084941403424926,9.626657045363055,10.052501321971668,10.696084736694756,11.135068773862269,11.135068773862269,11.135068773862269,12.01414870602331,12.831695637485812,12.831695637485812,12.831695637485812,13.472042136888964,14.18106336547546,14.589971813316643,14.589971813316643,14.693529200201317,15.541941523145997,16.678327003970367,17.5318087995747,17.5318087995747,18.865322832928882,18.865322832928882,18.865322832928882,18.865322832928882,18.865322832928882,18.865322832928882,19.82952457772832,19.82952457772832,19.82952457772832,21.03801132137351,21.648131138608647,22.19534653895626,22.19534653895626,22.19534653895626,22.19534653895626,22.19534653895626,22.19534653895626,22.43274138469616,23.121090473374178,23.121090473374178,23.121090473374178,23.121090473374178,24.243684668193218,24.243684668193218,24.243684668193218,24.95533189400489,25.87138962460286,25.87138962460286,26.325721162819487,26.325721162819487,26.325721162819487,26.97208779976202,26.97208779976202,26.97208779976202,27.6371595608629,27.6371595608629,27.6371595608629,27.6371595608629,27.6371595608629,29.125227660988973,29.125227660988973,29.125227660988973,29.125227660988973,29.125227660988973],\"yaxis\":\"y2\",\"type\":\"scatter\"},{\"hovertemplate\":\"variable=cumulative_fee_BAL<br>subset=1<br>timestamp=%{x}<br>value=%{y}<extra></extra>\",\"legendgroup\":\"cumulative_fee_BAL\",\"line\":{\"color\":\"#636efa\",\"dash\":\"solid\"},\"marker\":{\"symbol\":\"circle\"},\"mode\":\"lines\",\"name\":\"cumulative_fee_BAL\",\"orientation\":\"v\",\"showlegend\":false,\"x\":[null,\"2020-09-19T15:11:26\",\"2020-09-21T18:58:57\",\"2020-09-24T00:26:18\",\"2020-09-24T12:54:53\",\"2020-09-24T22:49:34\",\"2020-10-01T22:59:44\",\"2020-10-05T16:11:06\",\"2020-10-06T03:22:07\",\"2020-10-07T17:06:12\",\"2020-10-11T08:53:14\",\"2020-10-16T05:05:17\",\"2020-10-16T05:08:35\",\"2020-10-18T19:40:42\",\"2020-10-30T02:13:05\",\"2020-10-30T23:51:20\",\"2020-11-05T03:29:29\",\"2020-11-05T13:58:07\",\"2020-11-06T00:25:48\",\"2020-11-07T01:51:04\",\"2020-11-07T01:52:48\",\"2020-11-10T02:07:53\",\"2020-11-10T19:29:49\",\"2020-11-13T03:07:10\",\"2020-11-13T08:28:01\",\"2020-11-16T19:06:00\",\"2020-11-18T21:08:01\",\"2020-11-20T18:51:56\",\"2020-11-22T07:26:57\",\"2020-11-22T18:48:21\",\"2020-11-23T21:23:06\",\"2020-11-24T12:01:26\",\"2020-11-26T01:06:52\",\"2020-11-28T03:50:24\",\"2020-11-28T10:52:10\",\"2020-12-01T07:16:00\",\"2020-12-02T15:20:03\",\"2020-12-08T16:38:16\",\"2020-12-14T22:38:01\",\"2020-12-14T23:16:25\",\"2020-12-17T07:32:14\",\"2020-12-19T11:12:39\",\"2021-01-01T00:16:42\",\"2021-01-07T22:08:12\",\"2021-01-12T18:38:50\",\"2021-01-18T08:06:39\",\"2021-01-19T10:21:22\",\"2021-01-19T12:38:20\",\"2021-01-23T21:32:30\",\"2021-01-24T01:18:45\",\"2021-01-27T08:39:43\",\"2021-01-28T04:03:19\",\"2021-01-29T06:40:17\",\"2021-01-30T12:59:23\",\"2021-01-30T16:15:56\",\"2021-01-30T23:40:04\",\"2021-01-31T15:15:35\",\"2021-02-01T16:49:02\",\"2021-02-02T00:18:51\",\"2021-02-02T17:24:47\",\"2021-02-07T12:31:13\",\"2021-02-10T23:50:10\",\"2021-02-12T13:46:42\",\"2021-02-20T06:12:31\",\"2021-02-20T11:24:31\",\"2021-02-23T09:49:33\",\"2021-02-24T01:25:06\",\"2021-03-13T05:19:49\",\"2021-03-13T06:17:29\",\"2021-03-18T04:11:05\",\"2021-03-20T12:47:57\",\"2021-03-20T16:26:52\",\"2021-03-23T20:15:01\",\"2021-03-30T04:40:12\",\"2021-04-03T06:17:44\",\"2021-04-03T06:28:47\",\"2021-04-12T17:07:30\",\"2021-04-14T13:29:51\",\"2021-04-15T06:57:35\",\"2021-04-19T19:17:08\",\"2021-04-22T16:13:47\",\"2021-04-22T16:50:34\",\"2021-04-25T10:04:16\",\"2021-04-25T13:59:46\",\"2021-04-29T14:42:42\",\"2021-05-10T00:21:32\",\"2021-05-29T13:05:50\",\"2021-06-24T02:34:48\",\"2021-06-26T15:19:56\",\"2021-06-28T05:32:48\",\"2021-06-30T15:02:17\",\"2021-07-31T03:07:28\",\"2021-08-17T22:14:42\",\"2021-08-21T09:34:42\",\"2021-09-02T10:54:44\",\"2021-09-04T01:53:09\",\"2021-09-07T17:33:48\",\"2021-09-30T09:05:45\",\"2021-10-28T07:43:32\",\"2021-12-03T16:31:23\",\"2021-12-18T10:05:48\"],\"xaxis\":\"x\",\"y\":[0.0,0.0,2.6840756076284484,5.287685982370501,5.287685982370501,6.144475485919017,8.44280765552496,8.44280765552496,8.44280765552496,8.44280765552496,10.957560188106596,14.971589046526955,18.294642473879975,19.540081769245184,19.540081769245184,20.398589093682542,20.398589093682542,22.768504281347504,23.979710704687577,26.831242047655017,29.58599976396922,29.58599976396922,29.58599976396922,32.013673200378015,34.661331814044225,35.50336834180139,35.50336834180139,35.50336834180139,35.50336834180139,35.50336834180139,37.01985664602828,38.05040700551721,38.05040700551721,38.05040700551721,39.633182414882555,42.56273531015195,45.42470701712463,45.42470701712463,48.13328522681528,50.26250660985835,53.48042368347379,55.675343869311355,55.675343869311355,55.675343869311355,60.07074353011656,64.15847818742907,64.15847818742907,64.15847818742907,67.36021068444482,70.9053168273773,72.94985906658322,72.94985906658322,73.46764600100659,77.70970761572998,83.39163501985182,87.6590439978735,87.6590439978735,94.32661416464441,94.32661416464441,94.32661416464441,94.32661416464441,94.32661416464441,94.32661416464441,99.14762288864159,99.14762288864159,99.14762288864159,105.19005660686754,108.24065569304322,110.9767326947813,110.9767326947813,110.9767326947813,110.9767326947813,110.9767326947813,110.9767326947813,112.1637069234808,115.60545236687089,115.60545236687089,115.60545236687089,115.60545236687089,121.21842334096608,121.21842334096608,121.21842334096608,124.77665947002444,129.3569481230143,129.3569481230143,131.62860581409743,131.62860581409743,131.62860581409743,134.86043899881008,134.86043899881008,134.86043899881008,138.1857978043145,138.1857978043145,138.1857978043145,138.1857978043145,138.1857978043145,145.62613830494485,145.62613830494485,145.62613830494485,145.62613830494485,145.62613830494485],\"yaxis\":\"y\",\"type\":\"scatter\"},{\"hovertemplate\":\"variable=cumulative_fee_UNI<br>subset=0<br>timestamp=%{x}<br>value=%{y}<extra></extra>\",\"legendgroup\":\"cumulative_fee_UNI\",\"line\":{\"color\":\"#EF553B\",\"dash\":\"solid\"},\"marker\":{\"symbol\":\"circle\"},\"mode\":\"lines\",\"name\":\"cumulative_fee_UNI\",\"orientation\":\"v\",\"showlegend\":true,\"x\":[null,\"2020-09-19T15:11:26\",\"2020-09-21T18:58:57\",\"2020-09-24T00:26:18\",\"2020-09-24T12:54:53\",\"2020-09-24T22:49:34\",\"2020-10-01T22:59:44\",\"2020-10-05T16:11:06\",\"2020-10-06T03:22:07\",\"2020-10-07T17:06:12\",\"2020-10-11T08:53:14\",\"2020-10-16T05:05:17\",\"2020-10-16T05:08:35\",\"2020-10-18T19:40:42\",\"2020-10-30T02:13:05\",\"2020-10-30T23:51:20\",\"2020-11-05T03:29:29\",\"2020-11-05T13:58:07\",\"2020-11-06T00:25:48\",\"2020-11-07T01:51:04\",\"2020-11-07T01:52:48\",\"2020-11-10T02:07:53\",\"2020-11-10T19:29:49\",\"2020-11-13T03:07:10\",\"2020-11-13T08:28:01\",\"2020-11-16T19:06:00\",\"2020-11-18T21:08:01\",\"2020-11-20T18:51:56\",\"2020-11-22T07:26:57\",\"2020-11-22T18:48:21\",\"2020-11-23T21:23:06\",\"2020-11-24T12:01:26\",\"2020-11-26T01:06:52\",\"2020-11-28T03:50:24\",\"2020-11-28T10:52:10\",\"2020-12-01T07:16:00\",\"2020-12-02T15:20:03\",\"2020-12-08T16:38:16\",\"2020-12-14T22:38:01\",\"2020-12-14T23:16:25\",\"2020-12-17T07:32:14\",\"2020-12-19T11:12:39\",\"2021-01-01T00:16:42\",\"2021-01-07T22:08:12\",\"2021-01-12T18:38:50\",\"2021-01-18T08:06:39\",\"2021-01-19T10:21:22\",\"2021-01-19T12:38:20\",\"2021-01-23T21:32:30\",\"2021-01-24T01:18:45\",\"2021-01-27T08:39:43\",\"2021-01-28T04:03:19\",\"2021-01-29T06:40:17\",\"2021-01-30T12:59:23\",\"2021-01-30T16:15:56\",\"2021-01-30T23:40:04\",\"2021-01-31T15:15:35\",\"2021-02-01T16:49:02\",\"2021-02-02T00:18:51\",\"2021-02-02T17:24:47\",\"2021-02-07T12:31:13\",\"2021-02-10T23:50:10\",\"2021-02-12T13:46:42\",\"2021-02-20T06:12:31\",\"2021-02-20T11:24:31\",\"2021-02-23T09:49:33\",\"2021-02-24T01:25:06\",\"2021-03-13T05:19:49\",\"2021-03-13T06:17:29\",\"2021-03-18T04:11:05\",\"2021-03-20T12:47:57\",\"2021-03-20T16:26:52\",\"2021-03-23T20:15:01\",\"2021-03-30T04:40:12\",\"2021-04-03T06:17:44\",\"2021-04-03T06:28:47\",\"2021-04-12T17:07:30\",\"2021-04-14T13:29:51\",\"2021-04-15T06:57:35\",\"2021-04-19T19:17:08\",\"2021-04-22T16:13:47\",\"2021-04-22T16:50:34\",\"2021-04-25T10:04:16\",\"2021-04-25T13:59:46\",\"2021-04-29T14:42:42\",\"2021-05-10T00:21:32\",\"2021-05-29T13:05:50\",\"2021-06-24T02:34:48\",\"2021-06-26T15:19:56\",\"2021-06-28T05:32:48\",\"2021-06-30T15:02:17\",\"2021-07-31T03:07:28\",\"2021-08-17T22:14:42\",\"2021-08-21T09:34:42\",\"2021-09-02T10:54:44\",\"2021-09-04T01:53:09\",\"2021-09-07T17:33:48\",\"2021-09-30T09:05:45\",\"2021-10-28T07:43:32\",\"2021-12-03T16:31:23\",\"2021-12-18T10:05:48\"],\"xaxis\":\"x2\",\"y\":[0.0,2.1316310060932024,2.1316310060932024,2.1316310060932024,4.169322095324475,4.169322095324475,4.169322095324475,5.917064448439051,7.299519480952005,9.215499021225657,9.215499021225657,9.215499021225657,9.215499021225657,9.215499021225657,12.064391342399702,12.064391342399702,13.833535262715554,13.833535262715554,13.833535262715554,13.833535262715554,13.833535262715554,14.832048362319012,17.10023020184102,17.10023020184102,17.10023020184102,17.10023020184102,19.13038761007413,20.263200096927797,23.743200096927797,25.199087322579647,25.199087322579647,25.199087322579647,26.359435950227397,27.687711681666578,27.687711681666578,27.687711681666578,27.687711681666578,28.7645403271854,28.7645403271854,28.7645403271854,28.7645403271854,28.7645403271854,30.60053826553017,31.088252365318617,31.088252365318617,31.088252365318617,32.88424823656623,34.58174052437032,34.58174052437032,34.58174052437032,34.58174052437032,36.434670713223674,36.434670713223674,36.434670713223674,36.434670713223674,36.434670713223674,37.675742885239835,37.675742885239835,40.68579925127101,42.207254293218796,44.11760467125668,45.88447585223541,47.47996114857948,47.47996114857948,47.49743776356437,48.21148680718628,48.21148680718628,48.21148680718628,48.21148680718628,49.80232779041414,50.926730189927085,52.276472780637924,53.87166154177775,55.10895540784723,55.10895540784723,55.10895540784723,56.30730941009081,58.04679793276598,59.66142913423325,59.66142913423325,61.145765914723064,63.14850172156485,63.14850172156485,63.14850172156485,64.82218172156485,64.82218172156485,65.40623636687714,65.9726752967762,65.9726752967762,66.37767899236137,67.92858866101643,67.92858866101643,69.41720072000282,69.8352826773976,70.46905339741677,72.09168291705492,72.09168291705492,73.02771781027886,74.57300319806883,76.3056861113003,77.88018785055873],\"yaxis\":\"y2\",\"type\":\"scatter\"},{\"hovertemplate\":\"variable=cumulative_fee_UNI<br>subset=1<br>timestamp=%{x}<br>value=%{y}<extra></extra>\",\"legendgroup\":\"cumulative_fee_UNI\",\"line\":{\"color\":\"#EF553B\",\"dash\":\"solid\"},\"marker\":{\"symbol\":\"circle\"},\"mode\":\"lines\",\"name\":\"cumulative_fee_UNI\",\"orientation\":\"v\",\"showlegend\":false,\"x\":[null,\"2020-09-19T15:11:26\",\"2020-09-21T18:58:57\",\"2020-09-24T00:26:18\",\"2020-09-24T12:54:53\",\"2020-09-24T22:49:34\",\"2020-10-01T22:59:44\",\"2020-10-05T16:11:06\",\"2020-10-06T03:22:07\",\"2020-10-07T17:06:12\",\"2020-10-11T08:53:14\",\"2020-10-16T05:05:17\",\"2020-10-16T05:08:35\",\"2020-10-18T19:40:42\",\"2020-10-30T02:13:05\",\"2020-10-30T23:51:20\",\"2020-11-05T03:29:29\",\"2020-11-05T13:58:07\",\"2020-11-06T00:25:48\",\"2020-11-07T01:51:04\",\"2020-11-07T01:52:48\",\"2020-11-10T02:07:53\",\"2020-11-10T19:29:49\",\"2020-11-13T03:07:10\",\"2020-11-13T08:28:01\",\"2020-11-16T19:06:00\",\"2020-11-18T21:08:01\",\"2020-11-20T18:51:56\",\"2020-11-22T07:26:57\",\"2020-11-22T18:48:21\",\"2020-11-23T21:23:06\",\"2020-11-24T12:01:26\",\"2020-11-26T01:06:52\",\"2020-11-28T03:50:24\",\"2020-11-28T10:52:10\",\"2020-12-01T07:16:00\",\"2020-12-02T15:20:03\",\"2020-12-08T16:38:16\",\"2020-12-14T22:38:01\",\"2020-12-14T23:16:25\",\"2020-12-17T07:32:14\",\"2020-12-19T11:12:39\",\"2021-01-01T00:16:42\",\"2021-01-07T22:08:12\",\"2021-01-12T18:38:50\",\"2021-01-18T08:06:39\",\"2021-01-19T10:21:22\",\"2021-01-19T12:38:20\",\"2021-01-23T21:32:30\",\"2021-01-24T01:18:45\",\"2021-01-27T08:39:43\",\"2021-01-28T04:03:19\",\"2021-01-29T06:40:17\",\"2021-01-30T12:59:23\",\"2021-01-30T16:15:56\",\"2021-01-30T23:40:04\",\"2021-01-31T15:15:35\",\"2021-02-01T16:49:02\",\"2021-02-02T00:18:51\",\"2021-02-02T17:24:47\",\"2021-02-07T12:31:13\",\"2021-02-10T23:50:10\",\"2021-02-12T13:46:42\",\"2021-02-20T06:12:31\",\"2021-02-20T11:24:31\",\"2021-02-23T09:49:33\",\"2021-02-24T01:25:06\",\"2021-03-13T05:19:49\",\"2021-03-13T06:17:29\",\"2021-03-18T04:11:05\",\"2021-03-20T12:47:57\",\"2021-03-20T16:26:52\",\"2021-03-23T20:15:01\",\"2021-03-30T04:40:12\",\"2021-04-03T06:17:44\",\"2021-04-03T06:28:47\",\"2021-04-12T17:07:30\",\"2021-04-14T13:29:51\",\"2021-04-15T06:57:35\",\"2021-04-19T19:17:08\",\"2021-04-22T16:13:47\",\"2021-04-22T16:50:34\",\"2021-04-25T10:04:16\",\"2021-04-25T13:59:46\",\"2021-04-29T14:42:42\",\"2021-05-10T00:21:32\",\"2021-05-29T13:05:50\",\"2021-06-24T02:34:48\",\"2021-06-26T15:19:56\",\"2021-06-28T05:32:48\",\"2021-06-30T15:02:17\",\"2021-07-31T03:07:28\",\"2021-08-17T22:14:42\",\"2021-08-21T09:34:42\",\"2021-09-02T10:54:44\",\"2021-09-04T01:53:09\",\"2021-09-07T17:33:48\",\"2021-09-30T09:05:45\",\"2021-10-28T07:43:32\",\"2021-12-03T16:31:23\",\"2021-12-18T10:05:48\"],\"xaxis\":\"x\",\"y\":[0.0,10.658155030466013,10.658155030466013,10.658155030466013,20.846610476622374,20.846610476622374,20.846610476622374,29.585322242195257,36.49759740476003,46.07749510612829,46.07749510612829,46.07749510612829,46.07749510612829,46.07749510612829,60.32195671199852,60.32195671199852,69.16767631357777,69.16767631357777,69.16767631357777,69.16767631357777,69.16767631357777,74.16024181159507,85.5011510092051,85.5011510092051,85.5011510092051,85.5011510092051,95.65193805037066,101.31600048463899,118.716000484639,125.99543661289825,125.99543661289825,125.99543661289825,131.79717975113698,138.43855840833288,138.43855840833288,138.43855840833288,138.43855840833288,143.822701635927,143.822701635927,143.822701635927,143.822701635927,143.822701635927,153.00269132765084,155.4412618265931,155.4412618265931,155.4412618265931,164.42124118283115,172.9087026218516,172.9087026218516,172.9087026218516,172.9087026218516,182.17335356611838,182.17335356611838,182.17335356611838,182.17335356611838,182.17335356611838,188.37871442619917,188.37871442619917,203.42899625635505,211.03627146609398,220.58802335628337,229.422379261177,237.39980574289734,237.39980574289734,237.48718881782182,241.05743403593138,241.05743403593138,241.05743403593138,241.05743403593138,249.01163895207065,254.63365094963538,261.38236390318957,269.3583077088887,275.5447770392361,275.5447770392361,275.5447770392361,281.536547050454,290.23398966382985,298.3071456711662,298.3071456711662,305.7288295736153,315.7425086078242,315.7425086078242,315.7425086078242,324.11090860782423,324.11090860782423,327.03118183438573,329.86337648388104,329.86337648388104,331.88839496180685,339.64294330508216,339.64294330508216,347.08600360001407,349.1764133869879,352.3452669870838,360.45841458527457,360.45841458527457,365.13858905139426,372.86501599034415,381.52843055650146,389.4009392527936],\"yaxis\":\"y\",\"type\":\"scatter\"}],                        {\"template\":{\"data\":{\"bar\":[{\"error_x\":{\"color\":\"#2a3f5f\"},\"error_y\":{\"color\":\"#2a3f5f\"},\"marker\":{\"line\":{\"color\":\"#E5ECF6\",\"width\":0.5},\"pattern\":{\"fillmode\":\"overlay\",\"size\":10,\"solidity\":0.2}},\"type\":\"bar\"}],\"barpolar\":[{\"marker\":{\"line\":{\"color\":\"#E5ECF6\",\"width\":0.5},\"pattern\":{\"fillmode\":\"overlay\",\"size\":10,\"solidity\":0.2}},\"type\":\"barpolar\"}],\"carpet\":[{\"aaxis\":{\"endlinecolor\":\"#2a3f5f\",\"gridcolor\":\"white\",\"linecolor\":\"white\",\"minorgridcolor\":\"white\",\"startlinecolor\":\"#2a3f5f\"},\"baxis\":{\"endlinecolor\":\"#2a3f5f\",\"gridcolor\":\"white\",\"linecolor\":\"white\",\"minorgridcolor\":\"white\",\"startlinecolor\":\"#2a3f5f\"},\"type\":\"carpet\"}],\"choropleth\":[{\"colorbar\":{\"outlinewidth\":0,\"ticks\":\"\"},\"type\":\"choropleth\"}],\"contour\":[{\"colorbar\":{\"outlinewidth\":0,\"ticks\":\"\"},\"colorscale\":[[0.0,\"#0d0887\"],[0.1111111111111111,\"#46039f\"],[0.2222222222222222,\"#7201a8\"],[0.3333333333333333,\"#9c179e\"],[0.4444444444444444,\"#bd3786\"],[0.5555555555555556,\"#d8576b\"],[0.6666666666666666,\"#ed7953\"],[0.7777777777777778,\"#fb9f3a\"],[0.8888888888888888,\"#fdca26\"],[1.0,\"#f0f921\"]],\"type\":\"contour\"}],\"contourcarpet\":[{\"colorbar\":{\"outlinewidth\":0,\"ticks\":\"\"},\"type\":\"contourcarpet\"}],\"heatmap\":[{\"colorbar\":{\"outlinewidth\":0,\"ticks\":\"\"},\"colorscale\":[[0.0,\"#0d0887\"],[0.1111111111111111,\"#46039f\"],[0.2222222222222222,\"#7201a8\"],[0.3333333333333333,\"#9c179e\"],[0.4444444444444444,\"#bd3786\"],[0.5555555555555556,\"#d8576b\"],[0.6666666666666666,\"#ed7953\"],[0.7777777777777778,\"#fb9f3a\"],[0.8888888888888888,\"#fdca26\"],[1.0,\"#f0f921\"]],\"type\":\"heatmap\"}],\"heatmapgl\":[{\"colorbar\":{\"outlinewidth\":0,\"ticks\":\"\"},\"colorscale\":[[0.0,\"#0d0887\"],[0.1111111111111111,\"#46039f\"],[0.2222222222222222,\"#7201a8\"],[0.3333333333333333,\"#9c179e\"],[0.4444444444444444,\"#bd3786\"],[0.5555555555555556,\"#d8576b\"],[0.6666666666666666,\"#ed7953\"],[0.7777777777777778,\"#fb9f3a\"],[0.8888888888888888,\"#fdca26\"],[1.0,\"#f0f921\"]],\"type\":\"heatmapgl\"}],\"histogram\":[{\"marker\":{\"pattern\":{\"fillmode\":\"overlay\",\"size\":10,\"solidity\":0.2}},\"type\":\"histogram\"}],\"histogram2d\":[{\"colorbar\":{\"outlinewidth\":0,\"ticks\":\"\"},\"colorscale\":[[0.0,\"#0d0887\"],[0.1111111111111111,\"#46039f\"],[0.2222222222222222,\"#7201a8\"],[0.3333333333333333,\"#9c179e\"],[0.4444444444444444,\"#bd3786\"],[0.5555555555555556,\"#d8576b\"],[0.6666666666666666,\"#ed7953\"],[0.7777777777777778,\"#fb9f3a\"],[0.8888888888888888,\"#fdca26\"],[1.0,\"#f0f921\"]],\"type\":\"histogram2d\"}],\"histogram2dcontour\":[{\"colorbar\":{\"outlinewidth\":0,\"ticks\":\"\"},\"colorscale\":[[0.0,\"#0d0887\"],[0.1111111111111111,\"#46039f\"],[0.2222222222222222,\"#7201a8\"],[0.3333333333333333,\"#9c179e\"],[0.4444444444444444,\"#bd3786\"],[0.5555555555555556,\"#d8576b\"],[0.6666666666666666,\"#ed7953\"],[0.7777777777777778,\"#fb9f3a\"],[0.8888888888888888,\"#fdca26\"],[1.0,\"#f0f921\"]],\"type\":\"histogram2dcontour\"}],\"mesh3d\":[{\"colorbar\":{\"outlinewidth\":0,\"ticks\":\"\"},\"type\":\"mesh3d\"}],\"parcoords\":[{\"line\":{\"colorbar\":{\"outlinewidth\":0,\"ticks\":\"\"}},\"type\":\"parcoords\"}],\"pie\":[{\"automargin\":true,\"type\":\"pie\"}],\"scatter\":[{\"marker\":{\"colorbar\":{\"outlinewidth\":0,\"ticks\":\"\"}},\"type\":\"scatter\"}],\"scatter3d\":[{\"line\":{\"colorbar\":{\"outlinewidth\":0,\"ticks\":\"\"}},\"marker\":{\"colorbar\":{\"outlinewidth\":0,\"ticks\":\"\"}},\"type\":\"scatter3d\"}],\"scattercarpet\":[{\"marker\":{\"colorbar\":{\"outlinewidth\":0,\"ticks\":\"\"}},\"type\":\"scattercarpet\"}],\"scattergeo\":[{\"marker\":{\"colorbar\":{\"outlinewidth\":0,\"ticks\":\"\"}},\"type\":\"scattergeo\"}],\"scattergl\":[{\"marker\":{\"colorbar\":{\"outlinewidth\":0,\"ticks\":\"\"}},\"type\":\"scattergl\"}],\"scattermapbox\":[{\"marker\":{\"colorbar\":{\"outlinewidth\":0,\"ticks\":\"\"}},\"type\":\"scattermapbox\"}],\"scatterpolar\":[{\"marker\":{\"colorbar\":{\"outlinewidth\":0,\"ticks\":\"\"}},\"type\":\"scatterpolar\"}],\"scatterpolargl\":[{\"marker\":{\"colorbar\":{\"outlinewidth\":0,\"ticks\":\"\"}},\"type\":\"scatterpolargl\"}],\"scatterternary\":[{\"marker\":{\"colorbar\":{\"outlinewidth\":0,\"ticks\":\"\"}},\"type\":\"scatterternary\"}],\"surface\":[{\"colorbar\":{\"outlinewidth\":0,\"ticks\":\"\"},\"colorscale\":[[0.0,\"#0d0887\"],[0.1111111111111111,\"#46039f\"],[0.2222222222222222,\"#7201a8\"],[0.3333333333333333,\"#9c179e\"],[0.4444444444444444,\"#bd3786\"],[0.5555555555555556,\"#d8576b\"],[0.6666666666666666,\"#ed7953\"],[0.7777777777777778,\"#fb9f3a\"],[0.8888888888888888,\"#fdca26\"],[1.0,\"#f0f921\"]],\"type\":\"surface\"}],\"table\":[{\"cells\":{\"fill\":{\"color\":\"#EBF0F8\"},\"line\":{\"color\":\"white\"}},\"header\":{\"fill\":{\"color\":\"#C8D4E3\"},\"line\":{\"color\":\"white\"}},\"type\":\"table\"}]},\"layout\":{\"annotationdefaults\":{\"arrowcolor\":\"#2a3f5f\",\"arrowhead\":0,\"arrowwidth\":1},\"autotypenumbers\":\"strict\",\"coloraxis\":{\"colorbar\":{\"outlinewidth\":0,\"ticks\":\"\"}},\"colorscale\":{\"diverging\":[[0,\"#8e0152\"],[0.1,\"#c51b7d\"],[0.2,\"#de77ae\"],[0.3,\"#f1b6da\"],[0.4,\"#fde0ef\"],[0.5,\"#f7f7f7\"],[0.6,\"#e6f5d0\"],[0.7,\"#b8e186\"],[0.8,\"#7fbc41\"],[0.9,\"#4d9221\"],[1,\"#276419\"]],\"sequential\":[[0.0,\"#0d0887\"],[0.1111111111111111,\"#46039f\"],[0.2222222222222222,\"#7201a8\"],[0.3333333333333333,\"#9c179e\"],[0.4444444444444444,\"#bd3786\"],[0.5555555555555556,\"#d8576b\"],[0.6666666666666666,\"#ed7953\"],[0.7777777777777778,\"#fb9f3a\"],[0.8888888888888888,\"#fdca26\"],[1.0,\"#f0f921\"]],\"sequentialminus\":[[0.0,\"#0d0887\"],[0.1111111111111111,\"#46039f\"],[0.2222222222222222,\"#7201a8\"],[0.3333333333333333,\"#9c179e\"],[0.4444444444444444,\"#bd3786\"],[0.5555555555555556,\"#d8576b\"],[0.6666666666666666,\"#ed7953\"],[0.7777777777777778,\"#fb9f3a\"],[0.8888888888888888,\"#fdca26\"],[1.0,\"#f0f921\"]]},\"colorway\":[\"#636efa\",\"#EF553B\",\"#00cc96\",\"#ab63fa\",\"#FFA15A\",\"#19d3f3\",\"#FF6692\",\"#B6E880\",\"#FF97FF\",\"#FECB52\"],\"font\":{\"color\":\"#2a3f5f\"},\"geo\":{\"bgcolor\":\"white\",\"lakecolor\":\"white\",\"landcolor\":\"#E5ECF6\",\"showlakes\":true,\"showland\":true,\"subunitcolor\":\"white\"},\"hoverlabel\":{\"align\":\"left\"},\"hovermode\":\"closest\",\"mapbox\":{\"style\":\"light\"},\"paper_bgcolor\":\"white\",\"plot_bgcolor\":\"#E5ECF6\",\"polar\":{\"angularaxis\":{\"gridcolor\":\"white\",\"linecolor\":\"white\",\"ticks\":\"\"},\"bgcolor\":\"#E5ECF6\",\"radialaxis\":{\"gridcolor\":\"white\",\"linecolor\":\"white\",\"ticks\":\"\"}},\"scene\":{\"xaxis\":{\"backgroundcolor\":\"#E5ECF6\",\"gridcolor\":\"white\",\"gridwidth\":2,\"linecolor\":\"white\",\"showbackground\":true,\"ticks\":\"\",\"zerolinecolor\":\"white\"},\"yaxis\":{\"backgroundcolor\":\"#E5ECF6\",\"gridcolor\":\"white\",\"gridwidth\":2,\"linecolor\":\"white\",\"showbackground\":true,\"ticks\":\"\",\"zerolinecolor\":\"white\"},\"zaxis\":{\"backgroundcolor\":\"#E5ECF6\",\"gridcolor\":\"white\",\"gridwidth\":2,\"linecolor\":\"white\",\"showbackground\":true,\"ticks\":\"\",\"zerolinecolor\":\"white\"}},\"shapedefaults\":{\"line\":{\"color\":\"#2a3f5f\"}},\"ternary\":{\"aaxis\":{\"gridcolor\":\"white\",\"linecolor\":\"white\",\"ticks\":\"\"},\"baxis\":{\"gridcolor\":\"white\",\"linecolor\":\"white\",\"ticks\":\"\"},\"bgcolor\":\"#E5ECF6\",\"caxis\":{\"gridcolor\":\"white\",\"linecolor\":\"white\",\"ticks\":\"\"}},\"title\":{\"x\":0.05},\"xaxis\":{\"automargin\":true,\"gridcolor\":\"white\",\"linecolor\":\"white\",\"ticks\":\"\",\"title\":{\"standoff\":15},\"zerolinecolor\":\"white\",\"zerolinewidth\":2},\"yaxis\":{\"automargin\":true,\"gridcolor\":\"white\",\"linecolor\":\"white\",\"ticks\":\"\",\"title\":{\"standoff\":15},\"zerolinecolor\":\"white\",\"zerolinewidth\":2}}},\"xaxis\":{\"anchor\":\"y\",\"domain\":[0.0,0.98],\"title\":{\"text\":\"timestamp\"}},\"yaxis\":{\"anchor\":\"x\",\"domain\":[0.0,0.485],\"title\":{\"text\":\"value\"}},\"xaxis2\":{\"anchor\":\"y2\",\"domain\":[0.0,0.98],\"matches\":\"x\",\"showticklabels\":false},\"yaxis2\":{\"anchor\":\"x2\",\"domain\":[0.515,1.0],\"matches\":\"y\",\"title\":{\"text\":\"value\"}},\"annotations\":[{\"font\":{},\"showarrow\":false,\"text\":\"subset=1\",\"textangle\":90,\"x\":0.98,\"xanchor\":\"left\",\"xref\":\"paper\",\"y\":0.2425,\"yanchor\":\"middle\",\"yref\":\"paper\"},{\"font\":{},\"showarrow\":false,\"text\":\"subset=0\",\"textangle\":90,\"x\":0.98,\"xanchor\":\"left\",\"xref\":\"paper\",\"y\":0.7575000000000001,\"yanchor\":\"middle\",\"yref\":\"paper\"}],\"legend\":{\"title\":{\"text\":\"variable\"},\"tracegroupgap\":0},\"margin\":{\"t\":60}},                        {\"responsive\": true}                    ).then(function(){\n",
              "                            \n",
              "var gd = document.getElementById('86866f6f-1164-4e13-a995-3c437442a754');\n",
              "var x = new MutationObserver(function (mutations, observer) {{\n",
              "        var display = window.getComputedStyle(gd).display;\n",
              "        if (!display || display === 'none') {{\n",
              "            console.log([gd, 'removed!']);\n",
              "            Plotly.purge(gd);\n",
              "            observer.disconnect();\n",
              "        }}\n",
              "}});\n",
              "\n",
              "// Listen for the removal of the full notebook cells\n",
              "var notebookContainer = gd.closest('#notebook-container');\n",
              "if (notebookContainer) {{\n",
              "    x.observe(notebookContainer, {childList: true});\n",
              "}}\n",
              "\n",
              "// Listen for the clearing of the current output cell\n",
              "var outputEl = gd.closest('.output');\n",
              "if (outputEl) {{\n",
              "    x.observe(outputEl, {childList: true});\n",
              "}}\n",
              "\n",
              "                        })                };                            </script>        </div>\n",
              "</body>\n",
              "</html>"
            ]
          },
          "metadata": {}
        }
      ],
      "source": [
        "# Visualize how much transaction fees were paid over time on each token\n",
        "px.line(simulation_result,\n",
        "           x='timestamp',\n",
        "           y=['cumulative_fee_BAL', 'cumulative_fee_UNI'],\n",
        "           facet_row='subset')"
      ]
    },
    {
      "cell_type": "code",
      "execution_count": 18,
      "metadata": {
        "execution": {
          "iopub.execute_input": "2021-06-15T20:38:14.789816Z",
          "iopub.status.busy": "2021-06-15T20:38:14.789288Z",
          "iopub.status.idle": "2021-06-15T20:38:14.859875Z",
          "shell.execute_reply": "2021-06-15T20:38:14.860250Z"
        },
        "colab": {
          "base_uri": "https://localhost:8080/",
          "height": 542
        },
        "id": "8r55u3kFyTXJ",
        "outputId": "02b31603-b018-4906-abbc-6266a10b3aa9"
      },
      "outputs": [
        {
          "output_type": "display_data",
          "data": {
            "text/html": [
              "<html>\n",
              "<head><meta charset=\"utf-8\" /></head>\n",
              "<body>\n",
              "    <div>            <script src=\"https://cdnjs.cloudflare.com/ajax/libs/mathjax/2.7.5/MathJax.js?config=TeX-AMS-MML_SVG\"></script><script type=\"text/javascript\">if (window.MathJax) {MathJax.Hub.Config({SVG: {font: \"STIX-Web\"}});}</script>                <script type=\"text/javascript\">window.PlotlyConfig = {MathJaxConfig: 'local'};</script>\n",
              "        <script src=\"https://cdn.plot.ly/plotly-2.8.3.min.js\"></script>                <div id=\"fa38da76-e398-49cf-969c-c594846a8746\" class=\"plotly-graph-div\" style=\"height:525px; width:100%;\"></div>            <script type=\"text/javascript\">                                    window.PLOTLYENV=window.PLOTLYENV || {};                                    if (document.getElementById(\"fa38da76-e398-49cf-969c-c594846a8746\")) {                    Plotly.newPlot(                        \"fa38da76-e398-49cf-969c-c594846a8746\",                        [{\"hovertemplate\":\"variable=cumulative_swap_BAL<br>subset=0<br>timestamp=%{x}<br>value=%{y}<extra></extra>\",\"legendgroup\":\"cumulative_swap_BAL\",\"line\":{\"color\":\"#636efa\",\"dash\":\"solid\"},\"marker\":{\"symbol\":\"circle\"},\"mode\":\"lines\",\"name\":\"cumulative_swap_BAL\",\"orientation\":\"v\",\"showlegend\":true,\"x\":[null,\"2020-09-19T15:11:26\",\"2020-09-21T18:58:57\",\"2020-09-24T00:26:18\",\"2020-09-24T12:54:53\",\"2020-09-24T22:49:34\",\"2020-10-01T22:59:44\",\"2020-10-05T16:11:06\",\"2020-10-06T03:22:07\",\"2020-10-07T17:06:12\",\"2020-10-11T08:53:14\",\"2020-10-16T05:05:17\",\"2020-10-16T05:08:35\",\"2020-10-18T19:40:42\",\"2020-10-30T02:13:05\",\"2020-10-30T23:51:20\",\"2020-11-05T03:29:29\",\"2020-11-05T13:58:07\",\"2020-11-06T00:25:48\",\"2020-11-07T01:51:04\",\"2020-11-07T01:52:48\",\"2020-11-10T02:07:53\",\"2020-11-10T19:29:49\",\"2020-11-13T03:07:10\",\"2020-11-13T08:28:01\",\"2020-11-16T19:06:00\",\"2020-11-18T21:08:01\",\"2020-11-20T18:51:56\",\"2020-11-22T07:26:57\",\"2020-11-22T18:48:21\",\"2020-11-23T21:23:06\",\"2020-11-24T12:01:26\",\"2020-11-26T01:06:52\",\"2020-11-28T03:50:24\",\"2020-11-28T10:52:10\",\"2020-12-01T07:16:00\",\"2020-12-02T15:20:03\",\"2020-12-08T16:38:16\",\"2020-12-14T22:38:01\",\"2020-12-14T23:16:25\",\"2020-12-17T07:32:14\",\"2020-12-19T11:12:39\",\"2021-01-01T00:16:42\",\"2021-01-07T22:08:12\",\"2021-01-12T18:38:50\",\"2021-01-18T08:06:39\",\"2021-01-19T10:21:22\",\"2021-01-19T12:38:20\",\"2021-01-23T21:32:30\",\"2021-01-24T01:18:45\",\"2021-01-27T08:39:43\",\"2021-01-28T04:03:19\",\"2021-01-29T06:40:17\",\"2021-01-30T12:59:23\",\"2021-01-30T16:15:56\",\"2021-01-30T23:40:04\",\"2021-01-31T15:15:35\",\"2021-02-01T16:49:02\",\"2021-02-02T00:18:51\",\"2021-02-02T17:24:47\",\"2021-02-07T12:31:13\",\"2021-02-10T23:50:10\",\"2021-02-12T13:46:42\",\"2021-02-20T06:12:31\",\"2021-02-20T11:24:31\",\"2021-02-23T09:49:33\",\"2021-02-24T01:25:06\",\"2021-03-13T05:19:49\",\"2021-03-13T06:17:29\",\"2021-03-18T04:11:05\",\"2021-03-20T12:47:57\",\"2021-03-20T16:26:52\",\"2021-03-23T20:15:01\",\"2021-03-30T04:40:12\",\"2021-04-03T06:17:44\",\"2021-04-03T06:28:47\",\"2021-04-12T17:07:30\",\"2021-04-14T13:29:51\",\"2021-04-15T06:57:35\",\"2021-04-19T19:17:08\",\"2021-04-22T16:13:47\",\"2021-04-22T16:50:34\",\"2021-04-25T10:04:16\",\"2021-04-25T13:59:46\",\"2021-04-29T14:42:42\",\"2021-05-10T00:21:32\",\"2021-05-29T13:05:50\",\"2021-06-24T02:34:48\",\"2021-06-26T15:19:56\",\"2021-06-28T05:32:48\",\"2021-06-30T15:02:17\",\"2021-07-31T03:07:28\",\"2021-08-17T22:14:42\",\"2021-08-21T09:34:42\",\"2021-09-02T10:54:44\",\"2021-09-04T01:53:09\",\"2021-09-07T17:33:48\",\"2021-09-30T09:05:45\",\"2021-10-28T07:43:32\",\"2021-12-03T16:31:23\",\"2021-12-18T10:05:48\"],\"xaxis\":\"x2\",\"y\":[0.0,-78.92821828937755,-25.24670613680859,26.825501358032454,-43.109731192981116,-25.973941122010796,19.99270227010808,-16.60111319207876,-44.495484113577845,-82.45424288014516,-32.159192228512445,48.12138493989472,114.58245348695516,139.49123939425934,74.7939754793786,91.96412196812578,53.799820464109445,101.19812421740872,125.42225268421015,182.45287954355894,237.54803386984298,211.93726744991068,155.68393219314666,204.23740092132252,257.19057319464673,274.0313037497901,222.19149662405852,191.98050527470912,113.24323354764971,81.93359992734005,112.26336601187778,132.8743732016564,104.16178273719048,71.17709780875622,102.8326059960632,161.42366390145108,218.6630980409048,189.71487941772565,243.88644361153862,286.4708712723999,350.8292127447087,394.72761646146,326.17286220282784,309.29991844079285,397.20791165689684,478.9626048031471,410.24728507162644,346.9911891209089,411.02583906122413,481.9279619198737,522.8188067039921,385.0676518490309,395.42339053749834,480.26462283196634,593.9031709144032,679.2513504748366,593.3271863194415,726.6785896548597,530.6011641092177,447.67111222300986,347.6055417823877,259.91490632229807,186.00819010651054,282.4283645864543,281.4283645864543,235.37637948794494,356.22505385246393,417.23703557597753,471.95857561073905,383.9069261868207,324.38827950924286,254.63537573721243,157.30799539803658,91.78382851977426,115.52331309376427,184.35822196156604,95.837894150936,-11.818486434725529,-99.66402661633393,12.595392865569949,-79.46488172789354,-199.55642563766014,-128.39170305649313,-36.78592999669614,-154.060068805365,-108.62691498370222,-161.4763899965108,-219.89487171917224,-155.258208024919,-196.54353288421365,-334.16860734952326,-267.6614312394349,-414.6614926013672,-454.3562837665685,-515.4505015748516,-656.8917407105057,-508.0849306978985,-620.2919773607338,-771.2253005918337,-959.3322238132189,-1098.2255863680161],\"yaxis\":\"y2\",\"type\":\"scatter\"},{\"hovertemplate\":\"variable=cumulative_swap_BAL<br>subset=1<br>timestamp=%{x}<br>value=%{y}<extra></extra>\",\"legendgroup\":\"cumulative_swap_BAL\",\"line\":{\"color\":\"#636efa\",\"dash\":\"solid\"},\"marker\":{\"symbol\":\"circle\"},\"mode\":\"lines\",\"name\":\"cumulative_swap_BAL\",\"orientation\":\"v\",\"showlegend\":false,\"x\":[null,\"2020-09-19T15:11:26\",\"2020-09-21T18:58:57\",\"2020-09-24T00:26:18\",\"2020-09-24T12:54:53\",\"2020-09-24T22:49:34\",\"2020-10-01T22:59:44\",\"2020-10-05T16:11:06\",\"2020-10-06T03:22:07\",\"2020-10-07T17:06:12\",\"2020-10-11T08:53:14\",\"2020-10-16T05:05:17\",\"2020-10-16T05:08:35\",\"2020-10-18T19:40:42\",\"2020-10-30T02:13:05\",\"2020-10-30T23:51:20\",\"2020-11-05T03:29:29\",\"2020-11-05T13:58:07\",\"2020-11-06T00:25:48\",\"2020-11-07T01:51:04\",\"2020-11-07T01:52:48\",\"2020-11-10T02:07:53\",\"2020-11-10T19:29:49\",\"2020-11-13T03:07:10\",\"2020-11-13T08:28:01\",\"2020-11-16T19:06:00\",\"2020-11-18T21:08:01\",\"2020-11-20T18:51:56\",\"2020-11-22T07:26:57\",\"2020-11-22T18:48:21\",\"2020-11-23T21:23:06\",\"2020-11-24T12:01:26\",\"2020-11-26T01:06:52\",\"2020-11-28T03:50:24\",\"2020-11-28T10:52:10\",\"2020-12-01T07:16:00\",\"2020-12-02T15:20:03\",\"2020-12-08T16:38:16\",\"2020-12-14T22:38:01\",\"2020-12-14T23:16:25\",\"2020-12-17T07:32:14\",\"2020-12-19T11:12:39\",\"2021-01-01T00:16:42\",\"2021-01-07T22:08:12\",\"2021-01-12T18:38:50\",\"2021-01-18T08:06:39\",\"2021-01-19T10:21:22\",\"2021-01-19T12:38:20\",\"2021-01-23T21:32:30\",\"2021-01-24T01:18:45\",\"2021-01-27T08:39:43\",\"2021-01-28T04:03:19\",\"2021-01-29T06:40:17\",\"2021-01-30T12:59:23\",\"2021-01-30T16:15:56\",\"2021-01-30T23:40:04\",\"2021-01-31T15:15:35\",\"2021-02-01T16:49:02\",\"2021-02-02T00:18:51\",\"2021-02-02T17:24:47\",\"2021-02-07T12:31:13\",\"2021-02-10T23:50:10\",\"2021-02-12T13:46:42\",\"2021-02-20T06:12:31\",\"2021-02-20T11:24:31\",\"2021-02-23T09:49:33\",\"2021-02-24T01:25:06\",\"2021-03-13T05:19:49\",\"2021-03-13T06:17:29\",\"2021-03-18T04:11:05\",\"2021-03-20T12:47:57\",\"2021-03-20T16:26:52\",\"2021-03-23T20:15:01\",\"2021-03-30T04:40:12\",\"2021-04-03T06:17:44\",\"2021-04-03T06:28:47\",\"2021-04-12T17:07:30\",\"2021-04-14T13:29:51\",\"2021-04-15T06:57:35\",\"2021-04-19T19:17:08\",\"2021-04-22T16:13:47\",\"2021-04-22T16:50:34\",\"2021-04-25T10:04:16\",\"2021-04-25T13:59:46\",\"2021-04-29T14:42:42\",\"2021-05-10T00:21:32\",\"2021-05-29T13:05:50\",\"2021-06-24T02:34:48\",\"2021-06-26T15:19:56\",\"2021-06-28T05:32:48\",\"2021-06-30T15:02:17\",\"2021-07-31T03:07:28\",\"2021-08-17T22:14:42\",\"2021-08-21T09:34:42\",\"2021-09-02T10:54:44\",\"2021-09-04T01:53:09\",\"2021-09-07T17:33:48\",\"2021-09-30T09:05:45\",\"2021-10-28T07:43:32\",\"2021-12-03T16:31:23\",\"2021-12-18T10:05:48\"],\"xaxis\":\"x\",\"y\":[0.0,-78.92821828937755,-25.24670613680859,26.825501358032454,-43.109731192981116,-25.973941122010796,19.99270227010808,-16.60111319207876,-44.495484113577845,-82.45424288014516,-32.159192228512445,48.12138493989472,114.58245348695516,139.49123939425934,74.7939754793786,91.96412196812578,53.799820464109445,101.19812421740872,125.42225268421015,182.45287954355894,237.54803386984298,211.93726744991068,155.68393219314666,204.23740092132252,257.19057319464673,274.0313037497901,222.19149662405852,191.98050527470912,113.24323354764971,81.93359992734005,112.26336601187778,132.8743732016564,104.16178273719048,71.17709780875622,102.8326059960632,161.42366390145108,218.6630980409048,189.71487941772565,243.88644361153862,286.4708712723999,350.8292127447087,394.72761646146,326.17286220282784,309.29991844079285,397.20791165689684,478.9626048031471,410.24728507162644,346.9911891209089,411.02583906122413,481.9279619198737,522.8188067039921,385.0676518490309,395.42339053749834,480.26462283196634,593.9031709144032,679.2513504748366,593.3271863194415,726.6785896548597,530.6011641092177,447.67111222300986,347.6055417823877,259.91490632229807,186.00819010651054,282.4283645864543,281.4283645864543,235.37637948794494,356.22505385246393,417.23703557597753,471.95857561073905,383.9069261868207,324.38827950924286,254.63537573721243,157.30799539803658,91.78382851977426,115.52331309376427,184.35822196156604,95.837894150936,-11.818486434725529,-99.66402661633393,12.595392865569949,-79.46488172789354,-199.55642563766014,-128.39170305649313,-36.78592999669614,-154.060068805365,-108.62691498370222,-161.4763899965108,-219.89487171917224,-155.258208024919,-196.54353288421365,-334.16860734952326,-267.6614312394349,-414.6614926013672,-454.3562837665685,-515.4505015748516,-656.8917407105057,-508.0849306978985,-620.2919773607338,-771.2253005918337,-959.3322238132189,-1098.2255863680161],\"yaxis\":\"y\",\"type\":\"scatter\"},{\"hovertemplate\":\"variable=cumulative_swap_UNI<br>subset=0<br>timestamp=%{x}<br>value=%{y}<extra></extra>\",\"legendgroup\":\"cumulative_swap_UNI\",\"line\":{\"color\":\"#EF553B\",\"dash\":\"solid\"},\"marker\":{\"symbol\":\"circle\"},\"mode\":\"lines\",\"name\":\"cumulative_swap_UNI\",\"orientation\":\"v\",\"showlegend\":true,\"x\":[null,\"2020-09-19T15:11:26\",\"2020-09-21T18:58:57\",\"2020-09-24T00:26:18\",\"2020-09-24T12:54:53\",\"2020-09-24T22:49:34\",\"2020-10-01T22:59:44\",\"2020-10-05T16:11:06\",\"2020-10-06T03:22:07\",\"2020-10-07T17:06:12\",\"2020-10-11T08:53:14\",\"2020-10-16T05:05:17\",\"2020-10-16T05:08:35\",\"2020-10-18T19:40:42\",\"2020-10-30T02:13:05\",\"2020-10-30T23:51:20\",\"2020-11-05T03:29:29\",\"2020-11-05T13:58:07\",\"2020-11-06T00:25:48\",\"2020-11-07T01:51:04\",\"2020-11-07T01:52:48\",\"2020-11-10T02:07:53\",\"2020-11-10T19:29:49\",\"2020-11-13T03:07:10\",\"2020-11-13T08:28:01\",\"2020-11-16T19:06:00\",\"2020-11-18T21:08:01\",\"2020-11-20T18:51:56\",\"2020-11-22T07:26:57\",\"2020-11-22T18:48:21\",\"2020-11-23T21:23:06\",\"2020-11-24T12:01:26\",\"2020-11-26T01:06:52\",\"2020-11-28T03:50:24\",\"2020-11-28T10:52:10\",\"2020-12-01T07:16:00\",\"2020-12-02T15:20:03\",\"2020-12-08T16:38:16\",\"2020-12-14T22:38:01\",\"2020-12-14T23:16:25\",\"2020-12-17T07:32:14\",\"2020-12-19T11:12:39\",\"2021-01-01T00:16:42\",\"2021-01-07T22:08:12\",\"2021-01-12T18:38:50\",\"2021-01-18T08:06:39\",\"2021-01-19T10:21:22\",\"2021-01-19T12:38:20\",\"2021-01-23T21:32:30\",\"2021-01-24T01:18:45\",\"2021-01-27T08:39:43\",\"2021-01-28T04:03:19\",\"2021-01-29T06:40:17\",\"2021-01-30T12:59:23\",\"2021-01-30T16:15:56\",\"2021-01-30T23:40:04\",\"2021-01-31T15:15:35\",\"2021-02-01T16:49:02\",\"2021-02-02T00:18:51\",\"2021-02-02T17:24:47\",\"2021-02-07T12:31:13\",\"2021-02-10T23:50:10\",\"2021-02-12T13:46:42\",\"2021-02-20T06:12:31\",\"2021-02-20T11:24:31\",\"2021-02-23T09:49:33\",\"2021-02-24T01:25:06\",\"2021-03-13T05:19:49\",\"2021-03-13T06:17:29\",\"2021-03-18T04:11:05\",\"2021-03-20T12:47:57\",\"2021-03-20T16:26:52\",\"2021-03-23T20:15:01\",\"2021-03-30T04:40:12\",\"2021-04-03T06:17:44\",\"2021-04-03T06:28:47\",\"2021-04-12T17:07:30\",\"2021-04-14T13:29:51\",\"2021-04-15T06:57:35\",\"2021-04-19T19:17:08\",\"2021-04-22T16:13:47\",\"2021-04-22T16:50:34\",\"2021-04-25T10:04:16\",\"2021-04-25T13:59:46\",\"2021-04-29T14:42:42\",\"2021-05-10T00:21:32\",\"2021-05-29T13:05:50\",\"2021-06-24T02:34:48\",\"2021-06-26T15:19:56\",\"2021-06-28T05:32:48\",\"2021-06-30T15:02:17\",\"2021-07-31T03:07:28\",\"2021-08-17T22:14:42\",\"2021-08-21T09:34:42\",\"2021-09-02T10:54:44\",\"2021-09-04T01:53:09\",\"2021-09-07T17:33:48\",\"2021-09-30T09:05:45\",\"2021-10-28T07:43:32\",\"2021-12-03T16:31:23\",\"2021-12-18T10:05:48\"],\"xaxis\":\"x2\",\"y\":[0.0,213.16310060932025,27.28980472175388,-129.38980727962343,74.37930164350382,23.618958376784818,-165.59346261106873,9.180772700388928,147.42627595168437,339.02422997904955,116.16680378211868,-236.07767688406415,-515.7514900925104,-623.0093697113225,-338.12013759391795,-411.349894119445,-234.43550208785996,-442.74315516910633,-541.1989828173814,-758.1995199854616,-961.6353320394135,-861.7840220790675,-634.9658381268669,-819.3870031425862,-1011.4688383896082,-1073.7853435789875,-870.7696027556764,-757.4883540703098,-409.4883540703098,-263.8996315051248,-395.45558325489185,-477.81769910006574,-361.7828363352909,-228.95526319137295,-353.33349439767585,-573.5052048607268,-779.9619642526887,-672.2790997008065,-867.2068193108566,-1016.829635974308,-1261.034272928584,-1415.3979919372428,-1231.7981981027658,-1183.026788123921,-1437.4333231158762,-1625.9693263027532,-1446.369739177992,-1276.6205103975828,-1419.2985981102083,-1573.4473661652087,-1634.741575042471,-1449.4485561571355,-1465.5408290761784,-1599.8273906584425,-1778.5181277154097,-1906.2722900034787,-1782.1650728018626,-1967.2655007880435,-1666.2598641849258,-1514.1143599901472,-1323.0793221863591,-1146.3922040884863,-986.8436744540799,-1173.9911161914404,-1172.243454692951,-1100.83855033076,-1273.4305568146333,-1360.682055914318,-1437.4977767443363,-1278.4136784215507,-1165.9734384702563,-1030.9991793991721,-871.4803032851895,-747.7509166782406,-793.7460055203285,-924.9181200034985,-805.0827197791413,-631.1338675116236,-469.67074736489644,-665.300574843344,-516.8668967943624,-316.59331611018393,-422.02449101605265,-551.172550122085,-383.804550122085,-461.3532824687686,-402.9478179375387,-346.30392494763294,-407.90544119358117,-367.40507163506516,-212.31410476955864,-278.12182350354624,-129.26061760490776,-87.45242186543078,-24.07534986351333,138.18760210030237,-28.19840079337692,65.40508852901688,219.93362730801402,393.2019186311609,550.6520925570035],\"yaxis\":\"y2\",\"type\":\"scatter\"},{\"hovertemplate\":\"variable=cumulative_swap_UNI<br>subset=1<br>timestamp=%{x}<br>value=%{y}<extra></extra>\",\"legendgroup\":\"cumulative_swap_UNI\",\"line\":{\"color\":\"#EF553B\",\"dash\":\"solid\"},\"marker\":{\"symbol\":\"circle\"},\"mode\":\"lines\",\"name\":\"cumulative_swap_UNI\",\"orientation\":\"v\",\"showlegend\":false,\"x\":[null,\"2020-09-19T15:11:26\",\"2020-09-21T18:58:57\",\"2020-09-24T00:26:18\",\"2020-09-24T12:54:53\",\"2020-09-24T22:49:34\",\"2020-10-01T22:59:44\",\"2020-10-05T16:11:06\",\"2020-10-06T03:22:07\",\"2020-10-07T17:06:12\",\"2020-10-11T08:53:14\",\"2020-10-16T05:05:17\",\"2020-10-16T05:08:35\",\"2020-10-18T19:40:42\",\"2020-10-30T02:13:05\",\"2020-10-30T23:51:20\",\"2020-11-05T03:29:29\",\"2020-11-05T13:58:07\",\"2020-11-06T00:25:48\",\"2020-11-07T01:51:04\",\"2020-11-07T01:52:48\",\"2020-11-10T02:07:53\",\"2020-11-10T19:29:49\",\"2020-11-13T03:07:10\",\"2020-11-13T08:28:01\",\"2020-11-16T19:06:00\",\"2020-11-18T21:08:01\",\"2020-11-20T18:51:56\",\"2020-11-22T07:26:57\",\"2020-11-22T18:48:21\",\"2020-11-23T21:23:06\",\"2020-11-24T12:01:26\",\"2020-11-26T01:06:52\",\"2020-11-28T03:50:24\",\"2020-11-28T10:52:10\",\"2020-12-01T07:16:00\",\"2020-12-02T15:20:03\",\"2020-12-08T16:38:16\",\"2020-12-14T22:38:01\",\"2020-12-14T23:16:25\",\"2020-12-17T07:32:14\",\"2020-12-19T11:12:39\",\"2021-01-01T00:16:42\",\"2021-01-07T22:08:12\",\"2021-01-12T18:38:50\",\"2021-01-18T08:06:39\",\"2021-01-19T10:21:22\",\"2021-01-19T12:38:20\",\"2021-01-23T21:32:30\",\"2021-01-24T01:18:45\",\"2021-01-27T08:39:43\",\"2021-01-28T04:03:19\",\"2021-01-29T06:40:17\",\"2021-01-30T12:59:23\",\"2021-01-30T16:15:56\",\"2021-01-30T23:40:04\",\"2021-01-31T15:15:35\",\"2021-02-01T16:49:02\",\"2021-02-02T00:18:51\",\"2021-02-02T17:24:47\",\"2021-02-07T12:31:13\",\"2021-02-10T23:50:10\",\"2021-02-12T13:46:42\",\"2021-02-20T06:12:31\",\"2021-02-20T11:24:31\",\"2021-02-23T09:49:33\",\"2021-02-24T01:25:06\",\"2021-03-13T05:19:49\",\"2021-03-13T06:17:29\",\"2021-03-18T04:11:05\",\"2021-03-20T12:47:57\",\"2021-03-20T16:26:52\",\"2021-03-23T20:15:01\",\"2021-03-30T04:40:12\",\"2021-04-03T06:17:44\",\"2021-04-03T06:28:47\",\"2021-04-12T17:07:30\",\"2021-04-14T13:29:51\",\"2021-04-15T06:57:35\",\"2021-04-19T19:17:08\",\"2021-04-22T16:13:47\",\"2021-04-22T16:50:34\",\"2021-04-25T10:04:16\",\"2021-04-25T13:59:46\",\"2021-04-29T14:42:42\",\"2021-05-10T00:21:32\",\"2021-05-29T13:05:50\",\"2021-06-24T02:34:48\",\"2021-06-26T15:19:56\",\"2021-06-28T05:32:48\",\"2021-06-30T15:02:17\",\"2021-07-31T03:07:28\",\"2021-08-17T22:14:42\",\"2021-08-21T09:34:42\",\"2021-09-02T10:54:44\",\"2021-09-04T01:53:09\",\"2021-09-07T17:33:48\",\"2021-09-30T09:05:45\",\"2021-10-28T07:43:32\",\"2021-12-03T16:31:23\",\"2021-12-18T10:05:48\"],\"xaxis\":\"x\",\"y\":[0.0,213.16310060932025,27.28980472175388,-129.38980727962343,74.37930164350382,23.618958376784818,-165.59346261106873,9.180772700388928,147.42627595168437,339.02422997904955,116.16680378211868,-236.07767688406415,-515.7514900925104,-623.0093697113225,-338.12013759391795,-411.349894119445,-234.43550208785996,-442.74315516910633,-541.1989828173814,-758.1995199854616,-961.6353320394135,-861.7840220790675,-634.9658381268669,-819.3870031425862,-1011.4688383896082,-1073.7853435789875,-870.7696027556764,-757.4883540703098,-409.4883540703098,-263.8996315051248,-395.45558325489185,-477.81769910006574,-361.7828363352909,-228.95526319137295,-353.33349439767585,-573.5052048607268,-779.9619642526887,-672.2790997008065,-867.2068193108566,-1016.829635974308,-1261.034272928584,-1415.3979919372428,-1231.7981981027658,-1183.026788123921,-1437.4333231158762,-1625.9693263027532,-1446.369739177992,-1276.6205103975828,-1419.2985981102083,-1573.4473661652087,-1634.741575042471,-1449.4485561571355,-1465.5408290761784,-1599.8273906584425,-1778.5181277154097,-1906.2722900034787,-1782.1650728018626,-1967.2655007880435,-1666.2598641849258,-1514.1143599901472,-1323.0793221863591,-1146.3922040884863,-986.8436744540799,-1173.9911161914404,-1172.243454692951,-1100.83855033076,-1273.4305568146333,-1360.682055914318,-1437.4977767443363,-1278.4136784215507,-1165.9734384702563,-1030.9991793991721,-871.4803032851895,-747.7509166782406,-793.7460055203285,-924.9181200034985,-805.0827197791413,-631.1338675116236,-469.67074736489644,-665.300574843344,-516.8668967943624,-316.59331611018393,-422.02449101605265,-551.172550122085,-383.804550122085,-461.3532824687686,-402.9478179375387,-346.30392494763294,-407.90544119358117,-367.40507163506516,-212.31410476955864,-278.12182350354624,-129.26061760490776,-87.45242186543078,-24.07534986351333,138.18760210030237,-28.19840079337692,65.40508852901688,219.93362730801402,393.2019186311609,550.6520925570035],\"yaxis\":\"y\",\"type\":\"scatter\"}],                        {\"template\":{\"data\":{\"bar\":[{\"error_x\":{\"color\":\"#2a3f5f\"},\"error_y\":{\"color\":\"#2a3f5f\"},\"marker\":{\"line\":{\"color\":\"#E5ECF6\",\"width\":0.5},\"pattern\":{\"fillmode\":\"overlay\",\"size\":10,\"solidity\":0.2}},\"type\":\"bar\"}],\"barpolar\":[{\"marker\":{\"line\":{\"color\":\"#E5ECF6\",\"width\":0.5},\"pattern\":{\"fillmode\":\"overlay\",\"size\":10,\"solidity\":0.2}},\"type\":\"barpolar\"}],\"carpet\":[{\"aaxis\":{\"endlinecolor\":\"#2a3f5f\",\"gridcolor\":\"white\",\"linecolor\":\"white\",\"minorgridcolor\":\"white\",\"startlinecolor\":\"#2a3f5f\"},\"baxis\":{\"endlinecolor\":\"#2a3f5f\",\"gridcolor\":\"white\",\"linecolor\":\"white\",\"minorgridcolor\":\"white\",\"startlinecolor\":\"#2a3f5f\"},\"type\":\"carpet\"}],\"choropleth\":[{\"colorbar\":{\"outlinewidth\":0,\"ticks\":\"\"},\"type\":\"choropleth\"}],\"contour\":[{\"colorbar\":{\"outlinewidth\":0,\"ticks\":\"\"},\"colorscale\":[[0.0,\"#0d0887\"],[0.1111111111111111,\"#46039f\"],[0.2222222222222222,\"#7201a8\"],[0.3333333333333333,\"#9c179e\"],[0.4444444444444444,\"#bd3786\"],[0.5555555555555556,\"#d8576b\"],[0.6666666666666666,\"#ed7953\"],[0.7777777777777778,\"#fb9f3a\"],[0.8888888888888888,\"#fdca26\"],[1.0,\"#f0f921\"]],\"type\":\"contour\"}],\"contourcarpet\":[{\"colorbar\":{\"outlinewidth\":0,\"ticks\":\"\"},\"type\":\"contourcarpet\"}],\"heatmap\":[{\"colorbar\":{\"outlinewidth\":0,\"ticks\":\"\"},\"colorscale\":[[0.0,\"#0d0887\"],[0.1111111111111111,\"#46039f\"],[0.2222222222222222,\"#7201a8\"],[0.3333333333333333,\"#9c179e\"],[0.4444444444444444,\"#bd3786\"],[0.5555555555555556,\"#d8576b\"],[0.6666666666666666,\"#ed7953\"],[0.7777777777777778,\"#fb9f3a\"],[0.8888888888888888,\"#fdca26\"],[1.0,\"#f0f921\"]],\"type\":\"heatmap\"}],\"heatmapgl\":[{\"colorbar\":{\"outlinewidth\":0,\"ticks\":\"\"},\"colorscale\":[[0.0,\"#0d0887\"],[0.1111111111111111,\"#46039f\"],[0.2222222222222222,\"#7201a8\"],[0.3333333333333333,\"#9c179e\"],[0.4444444444444444,\"#bd3786\"],[0.5555555555555556,\"#d8576b\"],[0.6666666666666666,\"#ed7953\"],[0.7777777777777778,\"#fb9f3a\"],[0.8888888888888888,\"#fdca26\"],[1.0,\"#f0f921\"]],\"type\":\"heatmapgl\"}],\"histogram\":[{\"marker\":{\"pattern\":{\"fillmode\":\"overlay\",\"size\":10,\"solidity\":0.2}},\"type\":\"histogram\"}],\"histogram2d\":[{\"colorbar\":{\"outlinewidth\":0,\"ticks\":\"\"},\"colorscale\":[[0.0,\"#0d0887\"],[0.1111111111111111,\"#46039f\"],[0.2222222222222222,\"#7201a8\"],[0.3333333333333333,\"#9c179e\"],[0.4444444444444444,\"#bd3786\"],[0.5555555555555556,\"#d8576b\"],[0.6666666666666666,\"#ed7953\"],[0.7777777777777778,\"#fb9f3a\"],[0.8888888888888888,\"#fdca26\"],[1.0,\"#f0f921\"]],\"type\":\"histogram2d\"}],\"histogram2dcontour\":[{\"colorbar\":{\"outlinewidth\":0,\"ticks\":\"\"},\"colorscale\":[[0.0,\"#0d0887\"],[0.1111111111111111,\"#46039f\"],[0.2222222222222222,\"#7201a8\"],[0.3333333333333333,\"#9c179e\"],[0.4444444444444444,\"#bd3786\"],[0.5555555555555556,\"#d8576b\"],[0.6666666666666666,\"#ed7953\"],[0.7777777777777778,\"#fb9f3a\"],[0.8888888888888888,\"#fdca26\"],[1.0,\"#f0f921\"]],\"type\":\"histogram2dcontour\"}],\"mesh3d\":[{\"colorbar\":{\"outlinewidth\":0,\"ticks\":\"\"},\"type\":\"mesh3d\"}],\"parcoords\":[{\"line\":{\"colorbar\":{\"outlinewidth\":0,\"ticks\":\"\"}},\"type\":\"parcoords\"}],\"pie\":[{\"automargin\":true,\"type\":\"pie\"}],\"scatter\":[{\"marker\":{\"colorbar\":{\"outlinewidth\":0,\"ticks\":\"\"}},\"type\":\"scatter\"}],\"scatter3d\":[{\"line\":{\"colorbar\":{\"outlinewidth\":0,\"ticks\":\"\"}},\"marker\":{\"colorbar\":{\"outlinewidth\":0,\"ticks\":\"\"}},\"type\":\"scatter3d\"}],\"scattercarpet\":[{\"marker\":{\"colorbar\":{\"outlinewidth\":0,\"ticks\":\"\"}},\"type\":\"scattercarpet\"}],\"scattergeo\":[{\"marker\":{\"colorbar\":{\"outlinewidth\":0,\"ticks\":\"\"}},\"type\":\"scattergeo\"}],\"scattergl\":[{\"marker\":{\"colorbar\":{\"outlinewidth\":0,\"ticks\":\"\"}},\"type\":\"scattergl\"}],\"scattermapbox\":[{\"marker\":{\"colorbar\":{\"outlinewidth\":0,\"ticks\":\"\"}},\"type\":\"scattermapbox\"}],\"scatterpolar\":[{\"marker\":{\"colorbar\":{\"outlinewidth\":0,\"ticks\":\"\"}},\"type\":\"scatterpolar\"}],\"scatterpolargl\":[{\"marker\":{\"colorbar\":{\"outlinewidth\":0,\"ticks\":\"\"}},\"type\":\"scatterpolargl\"}],\"scatterternary\":[{\"marker\":{\"colorbar\":{\"outlinewidth\":0,\"ticks\":\"\"}},\"type\":\"scatterternary\"}],\"surface\":[{\"colorbar\":{\"outlinewidth\":0,\"ticks\":\"\"},\"colorscale\":[[0.0,\"#0d0887\"],[0.1111111111111111,\"#46039f\"],[0.2222222222222222,\"#7201a8\"],[0.3333333333333333,\"#9c179e\"],[0.4444444444444444,\"#bd3786\"],[0.5555555555555556,\"#d8576b\"],[0.6666666666666666,\"#ed7953\"],[0.7777777777777778,\"#fb9f3a\"],[0.8888888888888888,\"#fdca26\"],[1.0,\"#f0f921\"]],\"type\":\"surface\"}],\"table\":[{\"cells\":{\"fill\":{\"color\":\"#EBF0F8\"},\"line\":{\"color\":\"white\"}},\"header\":{\"fill\":{\"color\":\"#C8D4E3\"},\"line\":{\"color\":\"white\"}},\"type\":\"table\"}]},\"layout\":{\"annotationdefaults\":{\"arrowcolor\":\"#2a3f5f\",\"arrowhead\":0,\"arrowwidth\":1},\"autotypenumbers\":\"strict\",\"coloraxis\":{\"colorbar\":{\"outlinewidth\":0,\"ticks\":\"\"}},\"colorscale\":{\"diverging\":[[0,\"#8e0152\"],[0.1,\"#c51b7d\"],[0.2,\"#de77ae\"],[0.3,\"#f1b6da\"],[0.4,\"#fde0ef\"],[0.5,\"#f7f7f7\"],[0.6,\"#e6f5d0\"],[0.7,\"#b8e186\"],[0.8,\"#7fbc41\"],[0.9,\"#4d9221\"],[1,\"#276419\"]],\"sequential\":[[0.0,\"#0d0887\"],[0.1111111111111111,\"#46039f\"],[0.2222222222222222,\"#7201a8\"],[0.3333333333333333,\"#9c179e\"],[0.4444444444444444,\"#bd3786\"],[0.5555555555555556,\"#d8576b\"],[0.6666666666666666,\"#ed7953\"],[0.7777777777777778,\"#fb9f3a\"],[0.8888888888888888,\"#fdca26\"],[1.0,\"#f0f921\"]],\"sequentialminus\":[[0.0,\"#0d0887\"],[0.1111111111111111,\"#46039f\"],[0.2222222222222222,\"#7201a8\"],[0.3333333333333333,\"#9c179e\"],[0.4444444444444444,\"#bd3786\"],[0.5555555555555556,\"#d8576b\"],[0.6666666666666666,\"#ed7953\"],[0.7777777777777778,\"#fb9f3a\"],[0.8888888888888888,\"#fdca26\"],[1.0,\"#f0f921\"]]},\"colorway\":[\"#636efa\",\"#EF553B\",\"#00cc96\",\"#ab63fa\",\"#FFA15A\",\"#19d3f3\",\"#FF6692\",\"#B6E880\",\"#FF97FF\",\"#FECB52\"],\"font\":{\"color\":\"#2a3f5f\"},\"geo\":{\"bgcolor\":\"white\",\"lakecolor\":\"white\",\"landcolor\":\"#E5ECF6\",\"showlakes\":true,\"showland\":true,\"subunitcolor\":\"white\"},\"hoverlabel\":{\"align\":\"left\"},\"hovermode\":\"closest\",\"mapbox\":{\"style\":\"light\"},\"paper_bgcolor\":\"white\",\"plot_bgcolor\":\"#E5ECF6\",\"polar\":{\"angularaxis\":{\"gridcolor\":\"white\",\"linecolor\":\"white\",\"ticks\":\"\"},\"bgcolor\":\"#E5ECF6\",\"radialaxis\":{\"gridcolor\":\"white\",\"linecolor\":\"white\",\"ticks\":\"\"}},\"scene\":{\"xaxis\":{\"backgroundcolor\":\"#E5ECF6\",\"gridcolor\":\"white\",\"gridwidth\":2,\"linecolor\":\"white\",\"showbackground\":true,\"ticks\":\"\",\"zerolinecolor\":\"white\"},\"yaxis\":{\"backgroundcolor\":\"#E5ECF6\",\"gridcolor\":\"white\",\"gridwidth\":2,\"linecolor\":\"white\",\"showbackground\":true,\"ticks\":\"\",\"zerolinecolor\":\"white\"},\"zaxis\":{\"backgroundcolor\":\"#E5ECF6\",\"gridcolor\":\"white\",\"gridwidth\":2,\"linecolor\":\"white\",\"showbackground\":true,\"ticks\":\"\",\"zerolinecolor\":\"white\"}},\"shapedefaults\":{\"line\":{\"color\":\"#2a3f5f\"}},\"ternary\":{\"aaxis\":{\"gridcolor\":\"white\",\"linecolor\":\"white\",\"ticks\":\"\"},\"baxis\":{\"gridcolor\":\"white\",\"linecolor\":\"white\",\"ticks\":\"\"},\"bgcolor\":\"#E5ECF6\",\"caxis\":{\"gridcolor\":\"white\",\"linecolor\":\"white\",\"ticks\":\"\"}},\"title\":{\"x\":0.05},\"xaxis\":{\"automargin\":true,\"gridcolor\":\"white\",\"linecolor\":\"white\",\"ticks\":\"\",\"title\":{\"standoff\":15},\"zerolinecolor\":\"white\",\"zerolinewidth\":2},\"yaxis\":{\"automargin\":true,\"gridcolor\":\"white\",\"linecolor\":\"white\",\"ticks\":\"\",\"title\":{\"standoff\":15},\"zerolinecolor\":\"white\",\"zerolinewidth\":2}}},\"xaxis\":{\"anchor\":\"y\",\"domain\":[0.0,0.98],\"title\":{\"text\":\"timestamp\"}},\"yaxis\":{\"anchor\":\"x\",\"domain\":[0.0,0.485],\"title\":{\"text\":\"value\"}},\"xaxis2\":{\"anchor\":\"y2\",\"domain\":[0.0,0.98],\"matches\":\"x\",\"showticklabels\":false},\"yaxis2\":{\"anchor\":\"x2\",\"domain\":[0.515,1.0],\"matches\":\"y\",\"title\":{\"text\":\"value\"}},\"annotations\":[{\"font\":{},\"showarrow\":false,\"text\":\"subset=1\",\"textangle\":90,\"x\":0.98,\"xanchor\":\"left\",\"xref\":\"paper\",\"y\":0.2425,\"yanchor\":\"middle\",\"yref\":\"paper\"},{\"font\":{},\"showarrow\":false,\"text\":\"subset=0\",\"textangle\":90,\"x\":0.98,\"xanchor\":\"left\",\"xref\":\"paper\",\"y\":0.7575000000000001,\"yanchor\":\"middle\",\"yref\":\"paper\"}],\"legend\":{\"title\":{\"text\":\"variable\"},\"tracegroupgap\":0},\"margin\":{\"t\":60}},                        {\"responsive\": true}                    ).then(function(){\n",
              "                            \n",
              "var gd = document.getElementById('fa38da76-e398-49cf-969c-c594846a8746');\n",
              "var x = new MutationObserver(function (mutations, observer) {{\n",
              "        var display = window.getComputedStyle(gd).display;\n",
              "        if (!display || display === 'none') {{\n",
              "            console.log([gd, 'removed!']);\n",
              "            Plotly.purge(gd);\n",
              "            observer.disconnect();\n",
              "        }}\n",
              "}});\n",
              "\n",
              "// Listen for the removal of the full notebook cells\n",
              "var notebookContainer = gd.closest('#notebook-container');\n",
              "if (notebookContainer) {{\n",
              "    x.observe(notebookContainer, {childList: true});\n",
              "}}\n",
              "\n",
              "// Listen for the clearing of the current output cell\n",
              "var outputEl = gd.closest('.output');\n",
              "if (outputEl) {{\n",
              "    x.observe(outputEl, {childList: true});\n",
              "}}\n",
              "\n",
              "                        })                };                            </script>        </div>\n",
              "</body>\n",
              "</html>"
            ]
          },
          "metadata": {}
        }
      ],
      "source": [
        "# Visualize the cumulative swaps:\n",
        "# * Positive means that the pool has more tokens than initially\n",
        "# * Negative means the opposite\n",
        "px.line(simulation_result,\n",
        "           x='timestamp',\n",
        "           y=['cumulative_swap_BAL', 'cumulative_swap_UNI'],\n",
        "           facet_row='subset')"
      ]
    }
  ],
  "metadata": {
    "kernelspec": {
      "display_name": "Python (cadCAD Hacks)",
      "language": "python",
      "name": "python-cadcad-hacks"
    },
    "language_info": {
      "codemirror_mode": {
        "name": "ipython",
        "version": 3
      },
      "file_extension": ".py",
      "mimetype": "text/x-python",
      "name": "python",
      "nbconvert_exporter": "python",
      "pygments_lexer": "ipython3",
      "version": "3.8.10"
    },
    "colab": {
      "name": "cadcad_UNI_BAL_Swap_Model_the_graph.ipynb",
      "provenance": [],
      "collapsed_sections": []
    }
  },
  "nbformat": 4,
  "nbformat_minor": 0
}